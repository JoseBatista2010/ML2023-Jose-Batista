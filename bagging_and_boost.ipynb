{
  "nbformat": 4,
  "nbformat_minor": 0,
  "metadata": {
    "colab": {
      "provenance": [],
      "authorship_tag": "ABX9TyOxrxAhE9B+9E5V3buGWifn",
      "include_colab_link": true
    },
    "kernelspec": {
      "name": "python3",
      "display_name": "Python 3"
    },
    "language_info": {
      "name": "python"
    }
  },
  "cells": [
    {
      "cell_type": "markdown",
      "metadata": {
        "id": "view-in-github",
        "colab_type": "text"
      },
      "source": [
        "<a href=\"https://colab.research.google.com/github/JoseBatista2010/ML2023-Jose-Batista/blob/master/bagging_and_boost.ipynb\" target=\"_parent\"><img src=\"https://colab.research.google.com/assets/colab-badge.svg\" alt=\"Open In Colab\"/></a>"
      ]
    },
    {
      "cell_type": "code",
      "execution_count": null,
      "metadata": {
        "id": "YdqKQa2WkGrB"
      },
      "outputs": [],
      "source": [
        "from sklearn.datasets import load_breast_cancer\n",
        "from sklearn.model_selection import train_test_split, GridSearchCV\n",
        "from sklearn.preprocessing import StandardScaler\n",
        "from sklearn.ensemble import RandomForestClassifier, AdaBoostClassifier\n",
        "from sklearn.tree import DecisionTreeClassifier\n",
        "from sklearn.metrics import accuracy_score, recall_score, f1_score, precision_score, classification_report\n",
        "\n",
        "# Carregar o dataset\n",
        "data = load_breast_cancer()\n",
        "X = data.data\n",
        "y = data.target\n",
        "\n",
        "# Dividir os dados em conjunto de treino e teste\n",
        "X_train, X_test, y_train, y_test = train_test_split(X, y, test_size=0.2, random_state=42)\n",
        "\n",
        "# Realizar o escalonamento das features\n",
        "scaler = StandardScaler()\n",
        "X_train_scaled = scaler.fit_transform(X_train)\n",
        "X_test_scaled = scaler.transform(X_test)\n",
        "\n",
        "# Definir as combinações de hiperparâmetros para RandomForest e Ada Boosting\n",
        "param_grid_rf = {\n",
        "    'n_estimators': [50, 100, 200],\n",
        "    'max_depth': [3, 5, 7]\n",
        "}\n",
        "\n",
        "param_grid_ada = {\n",
        "    'n_estimators': [50, 100, 200],\n",
        "    'learning_rate': [0.1, 0.05, 0.01, 0.5]\n",
        "}\n",
        "\n",
        "# Grid search com 5-fold cross-validation para RandomForest\n",
        "rf_model = RandomForestClassifier(random_state=42)\n",
        "rf_grid_search = GridSearchCV(rf_model, param_grid_rf, cv=5)\n",
        "rf_grid_search.fit(X_train_scaled, y_train)\n",
        "\n",
        "# Grid search com 5-fold cross-validation para Ada Boosting\n",
        "ada_model = AdaBoostClassifier(base_estimator=DecisionTreeClassifier(), random_state=42)\n",
        "ada_grid_search = GridSearchCV(ada_model, param_grid_ada, cv=5)\n",
        "ada_grid_search.fit(X_train_scaled, y_train)\n",
        "\n",
        "# Encontrar a melhor combinação de hiperparâmetros para RandomForest e Ada Boosting\n",
        "best_rf_model = rf_grid_search.best_estimator_\n",
        "best_ada_model = ada_grid_search.best_estimator_\n",
        "\n",
        "# Retreinar o modelo com a melhor combinação de hiperparâmetros usando o conjunto de treino completo\n",
        "best_rf_model.fit(X_train_scaled, y_train)\n",
        "best_ada_model.fit(X_train_scaled, y_train)\n",
        "\n",
        "# Avaliar as métricas de desempenho\n",
        "y_pred_rf = best_rf_model.predict(X_test_scaled)\n",
        "y_pred_ada = best_ada_model.predict(X_test_scaled)\n",
        "\n",
        "accuracy_rf = accuracy_score(y_test, y_pred_rf)\n",
        "accuracy_ada = accuracy_score(y_test, y_pred_ada)\n",
        "\n",
        "recall_rf = recall_score(y_test, y_pred_rf, average=None)\n",
        "recall_ada = recall_score(y_test, y_pred_ada, average=None)\n",
        "\n",
        "f1_score_rf = f1_score(y_test, y_pred_rf, average=None)\n",
        "f1_score_ada = f1_score(y_test, y_pred_ada, average=None)\n",
        "\n",
        "precision_rf = precision_score(y_test, y_pred_rf, average=None)\n",
        "precision_ada = precision_score(y_test, y_pred_ada, average=None)\n",
        "\n",
        "classification_report_rf = classification_report(y_test, y_pred_rf)\n",
        "classification_report_ada = classification_report(y_test, y_pred_ada)\n",
        "\n",
        "# Mostrar a importância das features\n",
        "feature_importances_rf = best_rf_model.feature_importances_\n",
        "feature_importances_ada = best_ada_model.feature_importances_\n",
        "\n",
        "print(\"Random Forest:\")\n",
        "print(\"Acurácia:\", accuracy_rf)\n",
        "print(\"Recall:\", recall_rf)\n",
        "print(\"F1-score:\", f1_score_rf)\n",
        "print(\"Precision:\", precision_rf)\n",
        "print(\"Classification Report:\\n\", classification_report_rf)\n",
        "\n",
        "print(\"Ada Boosting:\")\n",
        "print(\"Acurácia:\", accuracy_ada)\n",
        "print(\"Recall:\", recall_ada)\n",
        "print(\"F1-score:\", f1_score_ada)\n",
        "print(\"Precision:\", precision_ada)\n",
        "print(\"Classification Report:\\n\", classification_report_ada)\n",
        "\n",
        "print(\"Importância das Features - Random Forest:\")\n"
      ]
    }
  ]
}