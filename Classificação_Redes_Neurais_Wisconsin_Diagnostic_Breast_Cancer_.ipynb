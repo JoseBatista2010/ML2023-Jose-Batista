{
  "nbformat": 4,
  "nbformat_minor": 0,
  "metadata": {
    "colab": {
      "provenance": [],
      "authorship_tag": "ABX9TyOu/XRRyZy1IOja0rwwsNZf",
      "include_colab_link": true
    },
    "kernelspec": {
      "name": "python3",
      "display_name": "Python 3"
    },
    "language_info": {
      "name": "python"
    }
  },
  "cells": [
    {
      "cell_type": "markdown",
      "metadata": {
        "id": "view-in-github",
        "colab_type": "text"
      },
      "source": [
        "<a href=\"https://colab.research.google.com/github/JoseBatista2010/ML2023-Jose-Batista/blob/master/Classifica%C3%A7%C3%A3o_Redes_Neurais_Wisconsin_Diagnostic_Breast_Cancer_.ipynb\" target=\"_parent\"><img src=\"https://colab.research.google.com/assets/colab-badge.svg\" alt=\"Open In Colab\"/></a>"
      ]
    },
    {
      "cell_type": "code",
      "source": [
        "pip install -U scikit-learn\n"
      ],
      "metadata": {
        "colab": {
          "base_uri": "https://localhost:8080/"
        },
        "id": "-73l7YT6CsxN",
        "outputId": "264daa37-5b0d-4799-84ed-33d2aee873bd"
      },
      "execution_count": 16,
      "outputs": [
        {
          "output_type": "stream",
          "name": "stdout",
          "text": [
            "Looking in indexes: https://pypi.org/simple, https://us-python.pkg.dev/colab-wheels/public/simple/\n",
            "Requirement already satisfied: scikit-learn in /usr/local/lib/python3.10/dist-packages (1.2.2)\n",
            "Requirement already satisfied: numpy>=1.17.3 in /usr/local/lib/python3.10/dist-packages (from scikit-learn) (1.22.4)\n",
            "Requirement already satisfied: threadpoolctl>=2.0.0 in /usr/local/lib/python3.10/dist-packages (from scikit-learn) (3.1.0)\n",
            "Requirement already satisfied: joblib>=1.1.1 in /usr/local/lib/python3.10/dist-packages (from scikit-learn) (1.2.0)\n",
            "Requirement already satisfied: scipy>=1.3.2 in /usr/local/lib/python3.10/dist-packages (from scikit-learn) (1.10.1)\n"
          ]
        }
      ]
    },
    {
      "cell_type": "markdown",
      "source": [
        "Importando o dataset usando o Pandas:"
      ],
      "metadata": {
        "id": "4CaLJT-9-GR6"
      }
    },
    {
      "cell_type": "code",
      "execution_count": 1,
      "metadata": {
        "id": "m1lSYypt9D90"
      },
      "outputs": [],
      "source": [
        "import pandas as pd\n",
        "\n",
        "# Carrega o dataset\n",
        "url = 'https://archive.ics.uci.edu/ml/machine-learning-databases/breast-cancer-wisconsin/wdbc.data'\n",
        "df = pd.read_csv(url, header=None)\n"
      ]
    },
    {
      "cell_type": "markdown",
      "source": [
        "Separando as features do target:"
      ],
      "metadata": {
        "id": "lkfLEJdT-R_K"
      }
    },
    {
      "cell_type": "code",
      "source": [
        "# Separa as features do target\n",
        "X = df.iloc[:, 2:].values\n",
        "y = df.iloc[:, 1].values\n",
        "\n",
        "# Transforma o target em valores binários\n",
        "y = (y == 'M').astype(int)\n"
      ],
      "metadata": {
        "id": "3_9C7KR-9yWn"
      },
      "execution_count": 2,
      "outputs": []
    },
    {
      "cell_type": "markdown",
      "source": [
        "Dividindo o conjunto de dados em treino e teste:"
      ],
      "metadata": {
        "id": "7HzkgVSm-eUO"
      }
    },
    {
      "cell_type": "code",
      "source": [
        "from sklearn.model_selection import train_test_split\n",
        "\n",
        "# Divide o conjunto de dados em treinamento e teste\n",
        "X_train, X_test, y_train, y_test = train_test_split(X, y, test_size=0.3, random_state=0)\n"
      ],
      "metadata": {
        "id": "ywGYIKbr92EI"
      },
      "execution_count": 3,
      "outputs": []
    },
    {
      "cell_type": "markdown",
      "source": [
        "Criando o modelo usando o perceptron:"
      ],
      "metadata": {
        "id": "O-ALWmb_-0MU"
      }
    },
    {
      "cell_type": "code",
      "source": [
        "from sklearn.linear_model import Perceptron\n",
        "\n",
        "# Cria o modelo de Perceptron\n",
        "clf = Perceptron(random_state=0)\n",
        "\n",
        "# Treina o modelo usando o conjunto de treinamento\n",
        "clf.fit(X_train, y_train)\n",
        "\n",
        "# Testa o modelo usando o conjunto de teste\n",
        "y_pred = clf.predict(X_test)\n"
      ],
      "metadata": {
        "id": "B2Go7GRH96Dp"
      },
      "execution_count": 4,
      "outputs": []
    },
    {
      "cell_type": "markdown",
      "source": [
        "Verificando a acurácia:"
      ],
      "metadata": {
        "id": "_3Sq-7rT-5Uc"
      }
    },
    {
      "cell_type": "code",
      "source": [
        "from sklearn.metrics import accuracy_score\n",
        "\n",
        "# Calcula a acurácia\n",
        "acc = accuracy_score(y_test, y_pred)\n",
        "print(f'Acurácia: {acc:.2f}')\n"
      ],
      "metadata": {
        "colab": {
          "base_uri": "https://localhost:8080/"
        },
        "id": "7nqcE-LF-BYU",
        "outputId": "b2f1695f-6051-489a-8ff9-b089e3eba2f9"
      },
      "execution_count": 5,
      "outputs": [
        {
          "output_type": "stream",
          "name": "stdout",
          "text": [
            "Acurácia: 0.91\n"
          ]
        }
      ]
    },
    {
      "cell_type": "markdown",
      "source": [
        "Utilizando o modelo Adaline com Gradiente Descendente:"
      ],
      "metadata": {
        "id": "LqnuJWMsBZsL"
      }
    },
    {
      "cell_type": "code",
      "source": [
        "from sklearn.linear_model import SGDClassifier\n",
        "from sklearn.preprocessing import StandardScaler\n",
        "\n",
        "# Pré-processa os dados\n",
        "sc = StandardScaler()\n",
        "X_train_std = sc.fit_transform(X_train)\n",
        "X_test_std = sc.transform(X_test)\n",
        "\n",
        "# Cria o modelo Adaline com gradiente descendente\n",
        "clf = SGDClassifier(loss='squared_error', random_state=0)\n",
        "\n",
        "# Treina o modelo usando o conjunto de treinamento pré-processado\n",
        "clf.fit(X_train_std, y_train)\n",
        "\n",
        "# Testa o modelo usando o conjunto de teste pré-processado\n",
        "y_pred = clf.predict(X_test_std)\n",
        "\n",
        "# Calcula a acurácia\n",
        "acc = accuracy_score(y_test, y_pred)\n",
        "print(f'Acurácia: {acc:.2f}')\n"
      ],
      "metadata": {
        "colab": {
          "base_uri": "https://localhost:8080/"
        },
        "id": "0LtnjffU_hFE",
        "outputId": "fd678d4d-e9f8-4d0c-de0c-67f23e2763cd"
      },
      "execution_count": 11,
      "outputs": [
        {
          "output_type": "stream",
          "name": "stdout",
          "text": [
            "Acurácia: 0.75\n"
          ]
        }
      ]
    },
    {
      "cell_type": "markdown",
      "source": [
        "Utilizando o modelo Adaline com Gradiente Descentente Estocástico:"
      ],
      "metadata": {
        "id": "xXOOcYikB-lx"
      }
    },
    {
      "cell_type": "code",
      "source": [
        "from sklearn.linear_model import SGDClassifier\n",
        "from sklearn.preprocessing import StandardScaler\n",
        "\n",
        "# Pré-processa os dados\n",
        "sc = StandardScaler()\n",
        "X_train_std = sc.fit_transform(X_train)\n",
        "X_test_std = sc.transform(X_test)\n",
        "\n",
        "# Cria o modelo Adaline com SGD\n",
        "clf = SGDClassifier(loss='squared_error', learning_rate='constant', eta0=0.01, random_state=0)\n",
        "\n",
        "# Treina o modelo usando o conjunto de treinamento pré-processado\n",
        "clf.fit(X_train_std, y_train)\n",
        "\n",
        "# Testa o modelo usando o conjunto de teste pré-processado\n",
        "y_pred = clf.predict(X_test_std)\n",
        "\n",
        "# Calcula a acurácia\n",
        "acc = accuracy_score(y_test, y_pred)\n",
        "print(f'Acurácia: {acc:.2f}')\n"
      ],
      "metadata": {
        "colab": {
          "base_uri": "https://localhost:8080/"
        },
        "id": "9qO1oeVnB30O",
        "outputId": "5e6cd3b1-a1ae-43e9-e766-9e2680fb3728"
      },
      "execution_count": 13,
      "outputs": [
        {
          "output_type": "stream",
          "name": "stdout",
          "text": [
            "Acurácia: 0.95\n"
          ]
        }
      ]
    },
    {
      "cell_type": "markdown",
      "source": [],
      "metadata": {
        "id": "suzsVYhFCXDx"
      }
    },
    {
      "cell_type": "code",
      "source": [
        "from sklearn.linear_model import SGDClassifier\n",
        "from sklearn.preprocessing import StandardScaler\n",
        "\n",
        "# Pré-processa os dados\n",
        "sc = StandardScaler()\n",
        "X_train_std = sc.fit_transform(X_train)\n",
        "X_test_std = sc.transform(X_test)\n",
        "\n",
        "# Cria o modelo Adaline com SGD usando mini-batches\n",
        "clf = SGDClassifier(loss='squared_error', learning_rate='constant', eta0=0.01, random_state=0)\n",
        "\n",
        "# Treina o modelo usando o conjunto de treinamento pré-processado\n",
        "clf.fit(X_train_std, y_train)\n",
        "\n",
        "# Testa o modelo usando o conjunto de teste pré-processado\n",
        "y_pred = clf.predict(X_test_std)\n",
        "\n",
        "# Calcula a acurácia\n",
        "acc = accuracy_score(y_test, y_pred)\n",
        "print(f'Acurácia: {acc:.2f}')\n"
      ],
      "metadata": {
        "colab": {
          "base_uri": "https://localhost:8080/"
        },
        "id": "EZlfwtfuCXnj",
        "outputId": "1288f06b-f10b-416e-e01d-cb1e5c072570"
      },
      "execution_count": 26,
      "outputs": [
        {
          "output_type": "stream",
          "name": "stdout",
          "text": [
            "Acurácia: 0.95\n"
          ]
        }
      ]
    },
    {
      "cell_type": "markdown",
      "source": [],
      "metadata": {
        "id": "1A6wr5qUEfU7"
      }
    },
    {
      "cell_type": "code",
      "source": [],
      "metadata": {
        "id": "DjFAMitqEers"
      },
      "execution_count": null,
      "outputs": []
    }
  ]
}