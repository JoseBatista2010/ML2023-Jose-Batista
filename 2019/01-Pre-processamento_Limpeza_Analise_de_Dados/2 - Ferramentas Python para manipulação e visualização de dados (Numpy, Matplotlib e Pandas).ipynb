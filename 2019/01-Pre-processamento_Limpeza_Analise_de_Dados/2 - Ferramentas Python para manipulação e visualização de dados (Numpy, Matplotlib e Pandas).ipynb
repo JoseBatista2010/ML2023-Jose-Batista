{
  "cells": [
    {
      "cell_type": "markdown",
      "metadata": {
        "id": "daZBd5iwPVia"
      },
      "source": [
        "# 2 - Ferramentas Python para manipulação e visualização de dados: `Numpy`, `Matplotlib` e `Pandas`"
      ]
    },
    {
      "cell_type": "markdown",
      "metadata": {
        "id": "SFtUoouRPVie"
      },
      "source": [
        "## Numpy\n",
        "O `NumPy` é uma poderosa biblioteca Python que é usada principalmente para realizar cálculos em **Arrays Multidimensionais**."
      ]
    },
    {
      "cell_type": "markdown",
      "metadata": {
        "id": "JX8DK8MPPVig"
      },
      "source": [
        "Iniciaremos com a importação do `numpy`."
      ]
    },
    {
      "cell_type": "code",
      "execution_count": 1,
      "metadata": {
        "id": "HTKoWPELPVii"
      },
      "outputs": [],
      "source": [
        "import numpy as np"
      ]
    },
    {
      "cell_type": "markdown",
      "source": [
        "Cria uma lista e inicializa um array com os alores da lista recém criada. Em seguida imprime a lista, o array, o tamanho do array, o tipo da lista e o tipo do array."
      ],
      "metadata": {
        "id": "HkqcOkskPYod"
      }
    },
    {
      "cell_type": "code",
      "execution_count": null,
      "metadata": {
        "id": "LIysNa3hPVio",
        "outputId": "7c540251-4487-4e84-af92-19ef5874f54a"
      },
      "outputs": [
        {
          "name": "stdout",
          "output_type": "stream",
          "text": [
            "[1, 2, 3]\n",
            "[1 2 3]\n",
            "(3,)\n",
            "<class 'list'>\n",
            "<class 'numpy.ndarray'>\n"
          ]
        }
      ],
      "source": [
        "# Criação de arrays com o numpy\n",
        "lista1 = [1, 2, 3]\n",
        "array1 = np.array(lista1)\n",
        "\n",
        "print(lista1)\n",
        "print(array1)\n",
        "print(array1.shape)\n",
        "print(type(lista1))\n",
        "print(type(array1))"
      ]
    },
    {
      "cell_type": "markdown",
      "source": [
        "Cria uma segunda lista e inicializa um novo array com os valores da nova lsita. vale ressaltar que ambas estruturas recém-criadas são multidimensionais. Em seguida imprime os valores da lista, do array e a media do segundo array. "
      ],
      "metadata": {
        "id": "NAYsy6UoZe1I"
      }
    },
    {
      "cell_type": "code",
      "execution_count": null,
      "metadata": {
        "id": "sQ0An1U6PVip",
        "outputId": "e2c62c49-6005-4ff0-a291-3b2846bc3688"
      },
      "outputs": [
        {
          "name": "stdout",
          "output_type": "stream",
          "text": [
            "[[1 2 3]\n",
            " [3 4 5]]\n",
            "Linha 1: [1 2 3]\n",
            "Média de uma linha: 3.0\n"
          ]
        }
      ],
      "source": [
        "lista2 = [[1, 2, 3], \n",
        "          [3, 4, 5]]\n",
        "array2 = np.array(lista2)\n",
        "\n",
        "print(array2)\n",
        "print('Linha 1: {}'.format(array2[0]))\n",
        "\n",
        "print('Média de uma linha: {}'.format(np.average(array2)))"
      ]
    },
    {
      "cell_type": "code",
      "execution_count": null,
      "metadata": {
        "id": "bONitd3LPVir",
        "outputId": "269cf50a-4822-46f4-bff0-66c4e9572425"
      },
      "outputs": [
        {
          "data": {
            "text/plain": [
              "array([[2, 4, 6],\n",
              "       [4, 6, 8]])"
            ]
          },
          "execution_count": 70,
          "metadata": {},
          "output_type": "execute_result"
        }
      ],
      "source": [
        "array1 + array2"
      ]
    },
    {
      "cell_type": "code",
      "execution_count": null,
      "metadata": {
        "id": "s-oFS7LaPVis",
        "outputId": "d0b497b9-f25a-4fba-aad2-c457c1ec0041"
      },
      "outputs": [
        {
          "data": {
            "text/plain": [
              "array([[ 1,  4,  9],\n",
              "       [ 3,  8, 15]])"
            ]
          },
          "execution_count": 71,
          "metadata": {},
          "output_type": "execute_result"
        }
      ],
      "source": [
        "array1 * array2"
      ]
    },
    {
      "cell_type": "markdown",
      "source": [
        "Cria e inicializa um array de duas dimensões e inicializa o mesmo com zeros. "
      ],
      "metadata": {
        "id": "CnxxZQvNaOU1"
      }
    },
    {
      "cell_type": "code",
      "execution_count": null,
      "metadata": {
        "id": "fD9qMrOvPViu",
        "outputId": "de97985c-c49a-47a4-c84c-f9e7c001d155"
      },
      "outputs": [
        {
          "name": "stdout",
          "output_type": "stream",
          "text": [
            "[[0. 0. 0. 0. 0.]\n",
            " [0. 0. 0. 0. 0.]\n",
            " [0. 0. 0. 0. 0.]]\n"
          ]
        }
      ],
      "source": [
        "a = np.zeros((3, 5))\n",
        "print(a)"
      ]
    },
    {
      "cell_type": "markdown",
      "source": [
        "Retorna o tipo do vetor a."
      ],
      "metadata": {
        "id": "nb-Q_xfUaoJD"
      }
    },
    {
      "cell_type": "code",
      "execution_count": null,
      "metadata": {
        "id": "mCocawJePViw",
        "outputId": "3329c6f0-d4d2-429f-c244-a110a4829351"
      },
      "outputs": [
        {
          "data": {
            "text/plain": [
              "numpy.float64"
            ]
          },
          "execution_count": 73,
          "metadata": {},
          "output_type": "execute_result"
        }
      ],
      "source": [
        "type(a[0, 0])"
      ]
    },
    {
      "cell_type": "markdown",
      "source": [
        "Cria um vetor e inicializa o mesmo com zeros."
      ],
      "metadata": {
        "id": "WUYHHELxazCM"
      }
    },
    {
      "cell_type": "code",
      "execution_count": null,
      "metadata": {
        "id": "-IGoKTJvPVix",
        "outputId": "6b143666-2c78-4d97-860b-c70fff29c624"
      },
      "outputs": [
        {
          "name": "stdout",
          "output_type": "stream",
          "text": [
            "[0 0 0 0 0]\n"
          ]
        }
      ],
      "source": [
        "b = np.zeros((5,), dtype=np.int)\n",
        "print(b)"
      ]
    },
    {
      "cell_type": "code",
      "execution_count": null,
      "metadata": {
        "id": "q5x56dwZPViy",
        "outputId": "32d6b345-80ca-44c0-9399-1506568aa02a"
      },
      "outputs": [
        {
          "data": {
            "text/plain": [
              "numpy.int64"
            ]
          },
          "execution_count": 75,
          "metadata": {},
          "output_type": "execute_result"
        }
      ],
      "source": [
        "type(b[0])"
      ]
    },
    {
      "cell_type": "code",
      "execution_count": null,
      "metadata": {
        "id": "OppSSvZMPViz",
        "outputId": "55f5308b-8fbd-40e7-dbbe-399107f5476e"
      },
      "outputs": [
        {
          "data": {
            "text/plain": [
              "array([2., 2., 2., 2., 2.])"
            ]
          },
          "execution_count": 76,
          "metadata": {},
          "output_type": "execute_result"
        }
      ],
      "source": [
        "# Retorna um novo array com uma determinada dimensão, valores e tipo\n",
        "np.full(5, 2, dtype=np.float)"
      ]
    },
    {
      "cell_type": "markdown",
      "source": [
        "Retorna um array não inicializado."
      ],
      "metadata": {
        "id": "JCY3a4dDbseF"
      }
    },
    {
      "cell_type": "code",
      "execution_count": null,
      "metadata": {
        "id": "LrFbQ27vPViz",
        "outputId": "8c425502-644d-4b2c-c48a-c4f9a1832078"
      },
      "outputs": [
        {
          "data": {
            "text/plain": [
              "array([[ 29.        , 234.63314886, 253.44      , 269.44      ],\n",
              "       [253.44      , 246.55636364, 253.44      ,  36.        ],\n",
              "       [ 29.        , 234.63314886, 269.44      , 253.44      ]])"
            ]
          },
          "execution_count": 77,
          "metadata": {},
          "output_type": "execute_result"
        }
      ],
      "source": [
        "np.empty([3, 4])"
      ]
    },
    {
      "cell_type": "markdown",
      "source": [
        "Retorna um vetor inicializado com valores aleatórios."
      ],
      "metadata": {
        "id": "T1FXKJricLl7"
      }
    },
    {
      "cell_type": "code",
      "execution_count": null,
      "metadata": {
        "id": "FXd-FPahPVi0",
        "outputId": "e1d7df48-4b6c-4128-ac84-3c1e171e5303"
      },
      "outputs": [
        {
          "name": "stdout",
          "output_type": "stream",
          "text": [
            "[[0.25263639 0.69044127 0.8431242 ]\n",
            " [0.61506283 0.39068383 0.88651093]]\n"
          ]
        }
      ],
      "source": [
        "c = np.random.rand(2, 3)\n",
        "print(c)"
      ]
    },
    {
      "cell_type": "markdown",
      "source": [
        "Retorna um vetor com os eixos transpostos."
      ],
      "metadata": {
        "id": "iOottLKpcbk5"
      }
    },
    {
      "cell_type": "code",
      "execution_count": null,
      "metadata": {
        "id": "bMr639MNPVi2",
        "outputId": "f81708c9-432f-4955-e64e-52a2e56b8cb1"
      },
      "outputs": [
        {
          "data": {
            "text/plain": [
              "array([[0.25263639, 0.61506283],\n",
              "       [0.69044127, 0.39068383],\n",
              "       [0.8431242 , 0.88651093]])"
            ]
          },
          "execution_count": 79,
          "metadata": {},
          "output_type": "execute_result"
        }
      ],
      "source": [
        "np.transpose(c)"
      ]
    },
    {
      "cell_type": "markdown",
      "source": [
        "Cria e inicializa um array de duas dimensões em uma única linha usando-se da notação adequada."
      ],
      "metadata": {
        "id": "VKm5aqLici0f"
      }
    },
    {
      "cell_type": "code",
      "execution_count": null,
      "metadata": {
        "id": "Y__5LbDgPVi2",
        "outputId": "30189a26-73cf-4a42-8662-f148c18b40a5"
      },
      "outputs": [
        {
          "name": "stdout",
          "output_type": "stream",
          "text": [
            "[[1 2 3]\n",
            " [4 5 6]\n",
            " [7 8 9]]\n"
          ]
        }
      ],
      "source": [
        "d = np.array([[1, 2, 3], [4, 5, 6], [7, 8, 9]])\n",
        "print(d)"
      ]
    },
    {
      "cell_type": "markdown",
      "source": [
        "Imprime a coluna 0 do array d."
      ],
      "metadata": {
        "id": "T_dRsL0vc6ro"
      }
    },
    {
      "cell_type": "code",
      "execution_count": null,
      "metadata": {
        "id": "N6iE_d93PVi3",
        "outputId": "e1108ded-850a-4e53-8ff9-c384dfbe8238"
      },
      "outputs": [
        {
          "data": {
            "text/plain": [
              "array([1, 4, 7])"
            ]
          },
          "execution_count": 81,
          "metadata": {},
          "output_type": "execute_result"
        }
      ],
      "source": [
        "d[:, 0]"
      ]
    },
    {
      "cell_type": "code",
      "execution_count": null,
      "metadata": {
        "id": "gVm0RkqpPVi3",
        "outputId": "c7b2c832-47ae-486c-9e05-d8dc2aeb8772"
      },
      "outputs": [
        {
          "data": {
            "text/plain": [
              "array([2, 5, 8])"
            ]
          },
          "execution_count": 16,
          "metadata": {},
          "output_type": "execute_result"
        }
      ],
      "source": [
        "d[:, 1]"
      ]
    },
    {
      "cell_type": "markdown",
      "source": [
        "Imprime um intervalo de colunas de um dado vetor, no caso o vetor d."
      ],
      "metadata": {
        "id": "KFxsV5egdEb1"
      }
    },
    {
      "cell_type": "code",
      "execution_count": null,
      "metadata": {
        "id": "tF_uBtzMPVi4",
        "outputId": "bf1152bc-286b-4815-c6e8-7385be5d8b42"
      },
      "outputs": [
        {
          "data": {
            "text/plain": [
              "array([[1, 2],\n",
              "       [4, 5],\n",
              "       [7, 8]])"
            ]
          },
          "execution_count": 17,
          "metadata": {},
          "output_type": "execute_result"
        }
      ],
      "source": [
        "d[:, 0:2]"
      ]
    },
    {
      "cell_type": "code",
      "execution_count": null,
      "metadata": {
        "id": "GvMymVN5PVi4",
        "outputId": "910c0efc-dac4-456b-b6ca-078635ab894f"
      },
      "outputs": [
        {
          "data": {
            "text/plain": [
              "array([3, 6, 9])"
            ]
          },
          "execution_count": 18,
          "metadata": {},
          "output_type": "execute_result"
        }
      ],
      "source": [
        "d[:, 2]"
      ]
    },
    {
      "cell_type": "markdown",
      "source": [
        "Atrubui a duas novas variáveis valores intervalares de vetores anteriores."
      ],
      "metadata": {
        "id": "FJro8bYV52Uw"
      }
    },
    {
      "cell_type": "code",
      "execution_count": null,
      "metadata": {
        "id": "8F3iNFoOPVi5",
        "outputId": "589a357e-cc9b-4903-ac19-1420f705f290"
      },
      "outputs": [
        {
          "name": "stdout",
          "output_type": "stream",
          "text": [
            "[[1 2]\n",
            " [4 5]\n",
            " [7 8]]\n",
            "\n",
            "[3 6 9]\n"
          ]
        }
      ],
      "source": [
        "x = d[:, 0:2]\n",
        "y = d[:, 2]\n",
        "\n",
        "print(x)\n",
        "print('')\n",
        "print(y)"
      ]
    },
    {
      "cell_type": "markdown",
      "metadata": {
        "id": "876ReIdtPVi5"
      },
      "source": [
        "**Notação: start:stop:step**"
      ]
    },
    {
      "cell_type": "markdown",
      "source": [
        "Printa os valores dentro vetor que correspondem as regras do start:stop:step"
      ],
      "metadata": {
        "id": "G1Ugm4ks7oV8"
      }
    },
    {
      "cell_type": "code",
      "execution_count": 2,
      "metadata": {
        "colab": {
          "base_uri": "https://localhost:8080/"
        },
        "id": "6XySdhThPVi6",
        "outputId": "5586fa57-75ae-4957-a431-0cb266a9e666"
      },
      "outputs": [
        {
          "output_type": "execute_result",
          "data": {
            "text/plain": [
              "array([1, 3, 5])"
            ]
          },
          "metadata": {},
          "execution_count": 2
        }
      ],
      "source": [
        "x = np.array([0, 1, 2, 3, 4, 5, 6, 7, 8, 9])\n",
        "x[1:7:2]"
      ]
    },
    {
      "cell_type": "markdown",
      "source": [
        "Salva o parametro no caminho dado e em seguida deleta x."
      ],
      "metadata": {
        "id": "K7ByUNuz8T23"
      }
    },
    {
      "cell_type": "code",
      "execution_count": 4,
      "metadata": {
        "id": "3W3LCvCwPVi7"
      },
      "outputs": [],
      "source": [
        "np.save('/tmp/x.npy', x)\n",
        "del(x)"
      ]
    },
    {
      "cell_type": "markdown",
      "source": [
        "Carrega x.npy através do diretório especificado e carrega o mesmo em x.\n",
        "Em seguia imprime o valor de x e o seu tipo."
      ],
      "metadata": {
        "id": "7rgQoGqw8cn8"
      }
    },
    {
      "cell_type": "code",
      "execution_count": 5,
      "metadata": {
        "colab": {
          "base_uri": "https://localhost:8080/"
        },
        "id": "3CbNccgBPVi7",
        "outputId": "9a44fa44-512e-4745-bcec-a631317e8e36"
      },
      "outputs": [
        {
          "output_type": "stream",
          "name": "stdout",
          "text": [
            "[0 1 2 3 4 5 6 7 8 9]\n",
            "<class 'numpy.ndarray'>\n"
          ]
        }
      ],
      "source": [
        "x = np.load('/tmp/x.npy')\n",
        "print(x)\n",
        "print(type(x))"
      ]
    },
    {
      "cell_type": "markdown",
      "source": [
        "Carrega em x_mm uma parte de mm.npy. Em seguida atribui um valor em uma posição especifica de x_mm e imprime."
      ],
      "metadata": {
        "id": "MdjfR9Ce9fXF"
      }
    },
    {
      "cell_type": "code",
      "execution_count": null,
      "metadata": {
        "id": "G-Xauz7zPVi8",
        "outputId": "1524d1ef-ed61-491b-9c92-7a053e5cb15c"
      },
      "outputs": [
        {
          "name": "stdout",
          "output_type": "stream",
          "text": [
            "12.5\n"
          ]
        }
      ],
      "source": [
        "# Usar memory mapping quando o conteúdo não couber em memória RAM\n",
        "x_mm = np.memmap('/tmp/x_mm.npy', dtype='float32', mode='w+', shape=(1000, 100))\n",
        "x_mm[999][99] = 12.5\n",
        "print(x_mm[999][99])"
      ]
    },
    {
      "cell_type": "code",
      "execution_count": null,
      "metadata": {
        "id": "KOohW4UzPVi9"
      },
      "outputs": [],
      "source": [
        "# Delete the memmap instance to close the file (the mmap file is not deleted). \n",
        "# Deletion flushes memory changes to disk before removing the object.\n",
        "del(x_mm)"
      ]
    },
    {
      "cell_type": "code",
      "execution_count": null,
      "metadata": {
        "id": "CeGimB34PVi9",
        "outputId": "bb9ad313-883f-4ca2-a3d3-fb892219c04c"
      },
      "outputs": [
        {
          "name": "stdout",
          "output_type": "stream",
          "text": [
            "12.5\n"
          ]
        }
      ],
      "source": [
        "# Load\n",
        "x_mm = np.memmap('/tmp/x_mm.npy', dtype='float32', mode='r', shape=(1000, 100))\n",
        "print(x_mm[999][99])"
      ]
    },
    {
      "cell_type": "code",
      "execution_count": null,
      "metadata": {
        "id": "YUYj_aQePVi-"
      },
      "outputs": [],
      "source": [
        "# Crie uma lista simples com 8 alturas de jogadores de baseball\n",
        "# (tipo inteiro)\n",
        "baseball = [180, 215, 210, 210, 188, 176, 209, 200]"
      ]
    },
    {
      "cell_type": "code",
      "execution_count": 6,
      "metadata": {
        "id": "qakxGb4-PVi_"
      },
      "outputs": [],
      "source": [
        "# Importe o pacote numpy como np\n",
        "import numpy as np"
      ]
    },
    {
      "cell_type": "code",
      "execution_count": null,
      "metadata": {
        "id": "2L5n_zQgPVjA"
      },
      "outputs": [],
      "source": [
        "# Crie um array numpy da variável baseball: np_baseball\n",
        "np_baseball = np.array(baseball)"
      ]
    },
    {
      "cell_type": "code",
      "execution_count": null,
      "metadata": {
        "id": "2QKCtCGiPVjA",
        "outputId": "4ef8e76c-ddfc-40d6-d198-fcfc0c0e27bd"
      },
      "outputs": [
        {
          "name": "stdout",
          "output_type": "stream",
          "text": [
            "<class 'numpy.ndarray'>\n"
          ]
        }
      ],
      "source": [
        "# Imprima o tipo da variável np_baseball\n",
        "print(type(np_baseball))"
      ]
    },
    {
      "cell_type": "code",
      "execution_count": null,
      "metadata": {
        "id": "aTN-L3P1PVjB"
      },
      "outputs": [],
      "source": [
        "height_in = [74, 74, 72, 72, 73, 69, 69, 71, 76, 71, 73, 73, 74, 74, 69, 70, 73, 75, 78, 79, 76, 74, 76, 72, 71, 75, 77, 74, 73, 74, 78, 73, 75, 73, 75, 75, 74, 69, 71, 74, 73, 73, 76, 74, 74, 70, 72, 77, 74, 70, 73, 75, 76, 76, 78, 74, 74, 76, 77, 81, 78, 75, 77, 75, 76, 74, 72, 72, 75, 73, 73, 73, 70, 70, 70, 76, 68, 71, 72, 75, 75, 75, 75, 68, 74, 78, 71, 73, 76, 74, 74, 79, 75, 73, 76, 74, 74, 73, 72, 74, 73, 74, 72, 73, 69, 72, 73, 75, 75, 73, 72, 72, 76, 74, 72, 77, 74, 77, 75, 76, 80, 74, 74, 75, 78, 73, 73, 74, 75, 76, 71, 73, 74, 76, 76, 74, 73, 74, 70, 72, 73, 73, 73, 73, 71, 74, 74, 72, 74, 71, 74, 73, 75, 75, 79, 73, 75, 76, 74, 76, 78, 74, 76, 72, 74, 76, 74, 75, 78, 75, 72, 74, 72, 74, 70, 71, 70, 75, 71, 71, 73, 72, 71, 73, 72, 75, 74, 74, 75, 73, 77, 73, 76, 75, 74, 76, 75, 73, 71, 76, 75, 72, 71, 77, 73, 74, 71, 72, 74, 75, 73, 72, 75, 75, 74, 72, 74, 71, 70, 74, 77, 77, 75, 75, 78, 75, 76, 73, 75, 75, 79, 77, 76, 71, 75, 74, 69, 71, 76, 72, 72, 70, 72, 73, 71, 72, 71, 73, 72, 73, 74, 74, 72, 75, 74, 74, 77, 75, 73, 72, 71, 74, 77, 75, 75, 75, 78, 78, 74, 76, 78, 76, 70, 72, 80, 74, 74, 71, 70, 72, 71, 74, 71, 72, 71, 74, 69, 76, 75, 75, 76, 73, 76, 73, 77, 73, 72, 72, 77, 77, 71, 74, 74, 73, 78, 75, 73, 70, 74, 72, 73, 73, 75, 75, 74, 76, 73, 74, 75, 75, 72, 73, 73, 72, 74, 78, 76, 73, 74, 75, 70, 75, 71, 72, 78, 75, 73, 73, 71, 75, 77, 72, 69, 73, 74, 72, 70, 75, 70, 72, 72, 74, 73, 74, 76, 75, 80, 72, 75, 73, 74, 74, 73, 75, 75, 71, 73, 75, 74, 74, 72, 74, 74, 74, 73, 76, 75, 72, 73, 73, 73, 72, 72, 72, 72, 71, 75, 75, 74, 73, 75, 79, 74, 76, 73, 74, 74, 72, 74, 74, 75, 78, 74, 74, 74, 77, 70, 73, 74, 73, 71, 75, 71, 72, 77, 74, 70, 77, 73, 72, 76, 71, 76, 78, 75, 73, 78, 74, 79, 75, 76, 72, 75, 75, 70, 72, 70, 74, 71, 76, 73, 76, 71, 69, 72, 72, 69, 73, 69, 73, 74, 74, 72, 71, 72, 72, 76, 76, 76, 74, 76, 75, 71, 72, 71, 73, 75, 76, 75, 71, 75, 74, 72, 73, 73, 73, 73, 76, 72, 76, 73, 73, 73, 75, 75, 77, 73, 72, 75, 70, 74, 72, 80, 71, 71, 74, 74, 73, 75, 76, 73, 77, 72, 73, 77, 76, 71, 75, 73, 74, 77, 71, 72, 73, 69, 73, 70, 74, 76, 73, 73, 75, 73, 79, 74, 73, 74, 77, 75, 74, 73, 77, 73, 77, 74, 74, 73, 77, 74, 77, 75, 77, 75, 71, 74, 70, 79, 72, 72, 70, 74, 74, 72, 73, 72, 74, 74, 76, 82, 74, 74, 70, 73, 73, 74, 77, 72, 76, 73, 73, 72, 74, 74, 71, 72, 75, 74, 74, 77, 70, 71, 73, 76, 71, 75, 74, 72, 76, 79, 76, 73, 76, 78, 75, 76, 72, 72, 73, 73, 75, 71, 76, 70, 75, 74, 75, 73, 71, 71, 72, 73, 73, 72, 69, 73, 78, 71, 73, 75, 76, 70, 74, 77, 75, 79, 72, 77, 73, 75, 75, 75, 73, 73, 76, 77, 75, 70, 71, 71, 75, 74, 69, 70, 75, 72, 75, 73, 72, 72, 72, 76, 75, 74, 69, 73, 72, 72, 75, 77, 76, 80, 77, 76, 79, 71, 75, 73, 76, 77, 73, 76, 70, 75, 73, 75, 70, 69, 71, 72, 72, 73, 70, 70, 73, 76, 75, 72, 73, 79, 71, 72, 74, 74, 74, 72, 76, 76, 72, 72, 71, 72, 72, 70, 77, 74, 72, 76, 71, 76, 71, 73, 70, 73, 73, 72, 71, 71, 71, 72, 72, 74, 74, 74, 71, 72, 75, 72, 71, 72, 72, 72, 72, 74, 74, 77, 75, 73, 75, 73, 76, 72, 77, 75, 72, 71, 71, 75, 72, 73, 73, 71, 70, 75, 71, 76, 73, 68, 71, 72, 74, 77, 72, 76, 78, 81, 72, 73, 76, 72, 72, 74, 76, 73, 76, 75, 70, 71, 74, 72, 73, 76, 76, 73, 71, 68, 71, 71, 74, 77, 69, 72, 76, 75, 76, 75, 76, 72, 74, 76, 74, 72, 75, 78, 77, 70, 72, 79, 74, 71, 68, 77, 75, 71, 72, 70, 72, 72, 73, 72, 74, 72, 72, 75, 72, 73, 74, 72, 78, 75, 72, 74, 75, 75, 76, 74, 74, 73, 74, 71, 74, 75, 76, 74, 76, 76, 73, 75, 75, 74, 68, 72, 75, 71, 70, 72, 73, 72, 75, 74, 70, 76, 71, 82, 72, 73, 74, 71, 75, 77, 72, 74, 72, 73, 78, 77, 73, 73, 73, 73, 73, 76, 75, 70, 73, 72, 73, 75, 74, 73, 73, 76, 73, 75, 70, 77, 72, 77, 74, 75, 75, 75, 75, 72, 74, 71, 76, 71, 75, 76, 83, 75, 74, 76, 72, 72, 75, 75, 72, 77, 73, 72, 70, 74, 72, 74, 72, 71, 70, 71, 76, 74, 76, 74, 74, 74, 75, 75, 71, 71, 74, 77, 71, 74, 75, 77, 76, 74, 76, 72, 71, 72, 75, 73, 68, 72, 69, 73, 73, 75, 70, 70, 74, 75, 74, 74, 73, 74, 75, 77, 73, 74, 76, 74, 75, 73, 76, 78, 75, 73, 77, 74, 72, 74, 72, 71, 73, 75, 73, 67, 67, 76, 74, 73, 70, 75, 70, 72, 77, 79, 78, 74, 75, 75, 78, 76, 75, 69, 75, 72, 75, 73, 74, 75, 75, 73]\n",
        "weight_lb = [180, 215, 210, 210, 188, 176, 209, 200, 231, 180, 188, 180, 185, 160, 180, 185, 189, 185, 219, 230, 205, 230, 195, 180, 192, 225, 203, 195, 182, 188, 200, 180, 200, 200, 245, 240, 215, 185, 175, 199, 200, 215, 200, 205, 206, 186, 188, 220, 210, 195, 200, 200, 212, 224, 210, 205, 220, 195, 200, 260, 228, 270, 200, 210, 190, 220, 180, 205, 210, 220, 211, 200, 180, 190, 170, 230, 155, 185, 185, 200, 225, 225, 220, 160, 205, 235, 250, 210, 190, 160, 200, 205, 222, 195, 205, 220, 220, 170, 185, 195, 220, 230, 180, 220, 180, 180, 170, 210, 215, 200, 213, 180, 192, 235, 185, 235, 210, 222, 210, 230, 220, 180, 190, 200, 210, 194, 180, 190, 240, 200, 198, 200, 195, 210, 220, 190, 210, 225, 180, 185, 170, 185, 185, 180, 178, 175, 200, 204, 211, 190, 210, 190, 190, 185, 290, 175, 185, 200, 220, 170, 220, 190, 220, 205, 200, 250, 225, 215, 210, 215, 195, 200, 194, 220, 180, 180, 170, 195, 180, 170, 206, 205, 200, 225, 201, 225, 233, 180, 225, 180, 220, 180, 237, 215, 190, 235, 190, 180, 165, 195, 200, 190, 190, 185, 185, 205, 190, 205, 206, 220, 208, 170, 195, 210, 190, 211, 230, 170, 185, 185, 241, 225, 210, 175, 230, 200, 215, 198, 226, 278, 215, 230, 240, 184, 219, 170, 218, 190, 225, 220, 176, 190, 197, 204, 167, 180, 195, 220, 215, 185, 190, 205, 205, 200, 210, 215, 200, 205, 211, 190, 208, 200, 210, 232, 230, 210, 220, 210, 202, 212, 225, 170, 190, 200, 237, 220, 170, 193, 190, 150, 220, 200, 190, 185, 185, 200, 172, 220, 225, 190, 195, 219, 190, 197, 200, 195, 210, 177, 220, 235, 180, 195, 195, 190, 230, 190, 200, 190, 190, 200, 200, 184, 200, 180, 219, 187, 200, 220, 205, 190, 170, 160, 215, 175, 205, 200, 214, 200, 190, 180, 205, 220, 190, 215, 235, 191, 200, 181, 200, 210, 240, 185, 165, 190, 185, 175, 155, 210, 170, 175, 220, 210, 205, 200, 205, 195, 240, 150, 200, 215, 202, 200, 190, 205, 190, 160, 215, 185, 200, 190, 210, 185, 220, 190, 202, 205, 220, 175, 160, 190, 200, 229, 206, 220, 180, 195, 175, 188, 230, 190, 200, 190, 219, 235, 180, 180, 180, 200, 234, 185, 220, 223, 200, 210, 200, 210, 190, 177, 227, 180, 195, 199, 175, 185, 240, 210, 180, 194, 225, 180, 205, 193, 230, 230, 220, 200, 249, 190, 208, 245, 250, 160, 192, 220, 170, 197, 155, 190, 200, 220, 210, 228, 190, 160, 184, 180, 180, 200, 176, 160, 222, 211, 195, 200, 175, 206, 240, 185, 260, 185, 221, 205, 200, 170, 201, 205, 185, 205, 245, 220, 210, 220, 185, 175, 170, 180, 200, 210, 175, 220, 206, 180, 210, 195, 200, 200, 164, 180, 220, 195, 205, 170, 240, 210, 195, 200, 205, 192, 190, 170, 240, 200, 205, 175, 250, 220, 224, 210, 195, 180, 245, 175, 180, 215, 175, 180, 195, 230, 230, 205, 215, 195, 180, 205, 180, 190, 180, 190, 190, 220, 210, 255, 190, 230, 200, 205, 210, 225, 215, 220, 205, 200, 220, 197, 225, 187, 245, 185, 185, 175, 200, 180, 188, 225, 200, 210, 245, 213, 231, 165, 228, 210, 250, 191, 190, 200, 215, 254, 232, 180, 215, 220, 180, 200, 170, 195, 210, 200, 220, 165, 180, 200, 200, 170, 224, 220, 180, 198, 240, 239, 185, 210, 220, 200, 195, 220, 230, 170, 220, 230, 165, 205, 192, 210, 205, 200, 210, 185, 195, 202, 205, 195, 180, 200, 185, 240, 185, 220, 205, 205, 180, 201, 190, 208, 240, 180, 230, 195, 215, 190, 195, 215, 215, 220, 220, 230, 195, 190, 195, 209, 204, 170, 185, 205, 175, 210, 190, 180, 180, 160, 235, 200, 210, 180, 190, 197, 203, 205, 170, 200, 250, 200, 220, 200, 190, 170, 190, 220, 215, 206, 215, 185, 235, 188, 230, 195, 168, 190, 160, 200, 200, 189, 180, 190, 200, 220, 187, 240, 190, 180, 185, 210, 220, 219, 190, 193, 175, 180, 215, 210, 200, 190, 185, 220, 170, 195, 205, 195, 210, 190, 190, 180, 220, 190, 186, 185, 190, 180, 190, 170, 210, 240, 220, 180, 210, 210, 195, 160, 180, 205, 200, 185, 245, 190, 210, 200, 200, 222, 215, 240, 170, 220, 156, 190, 202, 221, 200, 190, 210, 190, 200, 165, 190, 185, 230, 208, 209, 175, 180, 200, 205, 200, 250, 210, 230, 244, 202, 240, 200, 215, 177, 210, 170, 215, 217, 198, 200, 220, 170, 200, 230, 231, 183, 192, 167, 190, 180, 180, 215, 160, 205, 223, 175, 170, 190, 240, 175, 230, 223, 196, 167, 195, 190, 250, 190, 190, 190, 170, 160, 150, 225, 220, 209, 210, 176, 260, 195, 190, 184, 180, 195, 195, 219, 225, 212, 202, 185, 200, 209, 200, 195, 228, 210, 190, 212, 190, 218, 220, 190, 235, 210, 200, 188, 210, 235, 188, 215, 216, 220, 180, 185, 200, 210, 220, 185, 231, 210, 195, 200, 205, 200, 190, 250, 185, 180, 170, 180, 208, 235, 215, 244, 220, 185, 230, 190, 200, 180, 190, 196, 180, 230, 224, 160, 178, 205, 185, 210, 180, 190, 200, 257, 190, 220, 165, 205, 200, 208, 185, 215, 170, 235, 210, 170, 180, 170, 190, 150, 230, 203, 260, 246, 186, 210, 198, 210, 215, 180, 200, 245, 200, 192, 192, 200, 192, 205, 190, 186, 170, 197, 219, 200, 220, 207, 225, 207, 212, 225, 170, 190, 210, 230, 210, 200, 238, 234, 222, 200, 190, 170, 220, 223, 210, 215, 196, 175, 175, 189, 205, 210, 180, 180, 197, 220, 228, 190, 204, 165, 216, 220, 208, 210, 215, 195, 200, 215, 229, 240, 207, 205, 208, 185, 190, 170, 208, 225, 190, 225, 185, 180, 165, 240, 220, 212, 163, 215, 175, 205, 210, 205, 208, 215, 180, 200, 230, 211, 230, 190, 220, 180, 205, 190, 180, 205, 190, 195]"
      ]
    },
    {
      "cell_type": "code",
      "execution_count": null,
      "metadata": {
        "id": "7aohf7oYPVjC"
      },
      "outputs": [],
      "source": [
        "# Crie um array numpy a partir da lista height_in: np_height_in\n",
        "np_height_in = np.array(height_in)"
      ]
    },
    {
      "cell_type": "code",
      "execution_count": null,
      "metadata": {
        "id": "TKvjzVkqPVjC",
        "outputId": "25057b01-6c7c-4217-b254-53e67b79e47a"
      },
      "outputs": [
        {
          "name": "stdout",
          "output_type": "stream",
          "text": [
            "[74 74 72 ... 75 75 73]\n"
          ]
        }
      ],
      "source": [
        "# Imprima a variável np_height_in\n",
        "print(np_height_in)"
      ]
    },
    {
      "cell_type": "code",
      "execution_count": null,
      "metadata": {
        "id": "cm_LvZiaPVjD"
      },
      "outputs": [],
      "source": [
        "# Converta np_height_in para metros: np_height_m\n",
        "np_height_m = np_height_in*0.0254"
      ]
    },
    {
      "cell_type": "code",
      "execution_count": null,
      "metadata": {
        "id": "COFRpJ9sPVjD"
      },
      "outputs": [],
      "source": [
        "# Crie um array a partir de weight_lb em quilos: np_weight_kg\n",
        "np_weight_kg = np.array(weight_lb) * 0.453592"
      ]
    },
    {
      "cell_type": "code",
      "execution_count": null,
      "metadata": {
        "id": "d5pY5CxJPVjE",
        "outputId": "7217dfdb-3a66-4d89-8ff2-632c4a3fba1e"
      },
      "outputs": [
        {
          "name": "stdout",
          "output_type": "stream",
          "text": [
            "[23.11037639 27.60406069 28.48080465 ... 25.62295933 23.74810865\n",
            " 25.72686361]\n"
          ]
        }
      ],
      "source": [
        "# Calcule e imprima o IMC: bmi\n",
        "bmi = np_weight_kg/np_height_m ** 2\n",
        "print(bmi)"
      ]
    },
    {
      "cell_type": "markdown",
      "metadata": {
        "id": "l1dStECuPVjE"
      },
      "source": [
        "## Matplotlib\n",
        "O `matplotlib` é uma biblioteca com recursos para a geração de gráficos 2D a partir de *arrays*. Gráficos comuns podem ser criados com alta qualidade a partir de comandos simples, inspirados nos comandos gráficos do MATLAB."
      ]
    },
    {
      "cell_type": "code",
      "execution_count": 7,
      "metadata": {
        "id": "yyCKoFwzPVjE"
      },
      "outputs": [],
      "source": [
        "import matplotlib.pyplot as plt"
      ]
    },
    {
      "cell_type": "markdown",
      "source": [
        "Plota um gráfico 2d de dois vetores com u marcador 'o' para cada relação."
      ],
      "metadata": {
        "id": "7VKYSBqR_bd5"
      }
    },
    {
      "cell_type": "code",
      "execution_count": 9,
      "metadata": {
        "colab": {
          "base_uri": "https://localhost:8080/",
          "height": 282
        },
        "id": "46oS6EawPVjF",
        "outputId": "370c1842-cf7b-4815-980e-37b45caeb66a"
      },
      "outputs": [
        {
          "output_type": "execute_result",
          "data": {
            "text/plain": [
              "[<matplotlib.lines.Line2D at 0x7f94a5f53c10>]"
            ]
          },
          "metadata": {},
          "execution_count": 9
        },
        {
          "output_type": "display_data",
          "data": {
            "text/plain": [
              "<Figure size 432x288 with 1 Axes>"
            ],
            "image/png": "[encoded data removed]"
          },
          "metadata": {
            "needs_background": "light"
          }
        }
      ],
      "source": [
        "y = [1, 2, 3, 4, 5]\n",
        "x = [1, 2, 3, 4, 5]"
      ]
    },
    {
      "cell_type": "markdown",
      "source": [
        "Imprime uma malha."
      ],
      "metadata": {
        "id": "mPrFT0nX_mkt"
      }
    },
    {
      "cell_type": "code",
      "execution_count": null,
      "metadata": {
        "id": "kr-dsxs7PVjF"
      },
      "outputs": [],
      "source": [
        "plt.plot(x, y, marker='o')\n",
        "plt.grid()"
      ]
    },
    {
      "cell_type": "code",
      "execution_count": 10,
      "metadata": {
        "colab": {
          "base_uri": "https://localhost:8080/",
          "height": 265
        },
        "id": "127BAuelPVjG",
        "outputId": "79b8a577-d7b8-41b1-eb66-bf0a73f22451"
      },
      "outputs": [
        {
          "data": {
            "image/png": "[encoded data removed]",
            "text/plain": [
              "<Figure size 432x288 with 1 Axes>"
            ]
          },
          "metadata": {},
          "output_type": "display_data"
        }
      ],
      "source": [
        "plt.scatter(x, y, marker='o');"
      ]
    },
    {
      "cell_type": "code",
      "execution_count": 12,
      "metadata": {
        "colab": {
          "base_uri": "https://localhost:8080/",
          "height": 265
        },
        "id": "V-PH-BQDPVjG",
        "outputId": "8ee0ef9a-943f-4a94-bc8f-f5f52faa2a91"
      },
      "outputs": [
        {
          "output_type": "display_data",
          "data": {
            "text/plain": [
              "<Figure size 432x288 with 1 Axes>"
            ],
            "image/png": "[encoded data removed]"
          },
          "metadata": {
            "needs_background": "light"
          }
        }
      ],
      "source": [
        "plt.scatter(x, y, marker='o');"
      ]
    },
    {
      "cell_type": "markdown",
      "source": [
        "plota um gráfico de barras."
      ],
      "metadata": {
        "id": "Gud9n2toBttc"
      }
    },
    {
      "cell_type": "code",
      "execution_count": 11,
      "metadata": {
        "colab": {
          "base_uri": "https://localhost:8080/",
          "height": 265
        },
        "id": "0P72QEWAPVjH",
        "outputId": "aa7814e6-faa2-4778-f868-7a24b3a82938"
      },
      "outputs": [
        {
          "output_type": "display_data",
          "data": {
            "text/plain": [
              "<Figure size 432x288 with 1 Axes>"
            ],
            "image/png": "[encoded data removed]"
          },
          "metadata": {
            "needs_background": "light"
          }
        }
      ],
      "source": [
        "plt.bar(x, y);"
      ]
    },
    {
      "cell_type": "markdown",
      "metadata": {
        "id": "BqEtaiSJPVjH"
      },
      "source": [
        "**Gerando gráfico em formato PDF**"
      ]
    },
    {
      "cell_type": "code",
      "execution_count": 13,
      "metadata": {
        "colab": {
          "base_uri": "https://localhost:8080/",
          "height": 34
        },
        "id": "FxKyxqh3PVjI",
        "outputId": "f0e70777-6efc-494c-9e75-88714cf43a8e"
      },
      "outputs": [
        {
          "output_type": "display_data",
          "data": {
            "text/plain": [
              "<Figure size 432x288 with 1 Axes>"
            ],
            "application/pdf": "[encoded data removed]"
          },
          "metadata": {
            "needs_background": "light"
          }
        }
      ],
      "source": [
        "%config InlineBackend.figure_format = 'pdf'\n",
        "plt.bar(x, y);"
      ]
    },
    {
      "cell_type": "markdown",
      "metadata": {
        "id": "c5vvbb7fPVjJ"
      },
      "source": [
        "**Gerando gráfico em formato PNG**"
      ]
    },
    {
      "cell_type": "code",
      "execution_count": 14,
      "metadata": {
        "colab": {
          "base_uri": "https://localhost:8080/",
          "height": 265
        },
        "id": "nKGSeB4QPVjJ",
        "outputId": "962c7cef-f336-4f8e-eb67-ad98f75d00d6"
      },
      "outputs": [
        {
          "output_type": "display_data",
          "data": {
            "text/plain": [
              "<Figure size 432x288 with 1 Axes>"
            ],
            "image/png": "[encoded data removed]"
          },
          "metadata": {
            "needs_background": "light"
          }
        }
      ],
      "source": [
        "%config InlineBackend.figure_format = 'png'\n",
        "plt.bar(x, y);"
      ]
    },
    {
      "cell_type": "markdown",
      "source": [
        "Define doise vetores, anos e pib, em seguida plota um gráfico pibXano. Por conseguinte adiciona um titulo, uma label x e uma label y. Por último imprime um grid. "
      ],
      "metadata": {
        "id": "4eVUuVQ3COX_"
      }
    },
    {
      "cell_type": "code",
      "execution_count": null,
      "metadata": {
        "id": "bXf3FuvjPVjK"
      },
      "outputs": [],
      "source": [
        "anos = [1950, 1960, 1970, 1980, 1990, 2000, 2010]\n",
        "pib = [300.2, 543.3, 1075.9, 2862.5, 5979.6, 10289.7, 14958.3]\n",
        "plt.plot(anos, pib, marker='o')\n",
        "plt.title('PIB')\n",
        "plt.xlabel('Ano')\n",
        "plt.ylabel(u'Bilhões de R$')\n",
        "plt.grid()"
      ]
    },
    {
      "cell_type": "markdown",
      "metadata": {
        "id": "OpC1Djr1PVjL"
      },
      "source": [
        "**Qual versão do `matplotlib` estamos usando?**"
      ]
    },
    {
      "cell_type": "markdown",
      "source": [
        "Imprime a versão do matplotlib. "
      ],
      "metadata": {
        "id": "AqCOYvDtD4um"
      }
    },
    {
      "cell_type": "code",
      "execution_count": null,
      "metadata": {
        "id": "OPuGZeKqPVjL"
      },
      "outputs": [],
      "source": [
        "import matplotlib\n",
        "matplotlib.__version__"
      ]
    },
    {
      "cell_type": "markdown",
      "metadata": {
        "id": "Er0vLUpZPVjL"
      },
      "source": [
        "**Quais estilos temos disponíveis no Matplotlib?**"
      ]
    },
    {
      "cell_type": "code",
      "execution_count": null,
      "metadata": {
        "id": "r7nU5yqCPVjM",
        "outputId": "6750e4ba-9ca1-40a3-9ebe-6164ba185e48"
      },
      "outputs": [
        {
          "name": "stdout",
          "output_type": "stream",
          "text": [
            "['seaborn-dark', 'seaborn-darkgrid', 'seaborn-ticks', 'fivethirtyeight', 'seaborn-whitegrid', 'classic', '_classic_test', 'fast', 'seaborn-talk', 'seaborn-dark-palette', 'seaborn-bright', 'seaborn-pastel', 'grayscale', 'seaborn-notebook', 'ggplot', 'seaborn-colorblind', 'seaborn-muted', 'seaborn', 'Solarize_Light2', 'seaborn-paper', 'bmh', 'tableau-colorblind10', 'seaborn-white', 'dark_background', 'seaborn-poster', 'seaborn-deep']\n"
          ]
        }
      ],
      "source": [
        "print(plt.style.available)"
      ]
    },
    {
      "cell_type": "markdown",
      "metadata": {
        "id": "W_ouhirpPVjM"
      },
      "source": [
        "**Como resetar os estilos e voltar ao estilo padrão?**"
      ]
    },
    {
      "cell_type": "code",
      "execution_count": null,
      "metadata": {
        "id": "tim0DeSqPVjN"
      },
      "outputs": [],
      "source": [
        "plt.rcdefaults()"
      ]
    },
    {
      "cell_type": "code",
      "execution_count": 18,
      "metadata": {
        "id": "XV9OijQ-PVjN"
      },
      "outputs": [],
      "source": [
        "plt.style.use('fast')\n"
      ]
    },
    {
      "cell_type": "code",
      "execution_count": 19,
      "metadata": {
        "colab": {
          "base_uri": "https://localhost:8080/",
          "height": 447
        },
        "id": "4RRJ-OM-PVjN",
        "outputId": "9b6372dc-0887-4993-8934-c48e8f09ff1d"
      },
      "outputs": [
        {
          "output_type": "display_data",
          "data": {
            "text/plain": [
              "<Figure size 640x480 with 1 Axes>"
            ],
            "image/png": "[encoded data removed]"
          },
          "metadata": {}
        }
      ],
      "source": [
        "plt.plot(x, y, marker='o')\n",
        "plt.grid()\n",
        "\n",
        "plt.style.use('classic')\n",
        "\n",
        "plt.plot(x, y, marker='o')\n",
        "plt.grid()"
      ]
    },
    {
      "cell_type": "code",
      "execution_count": 20,
      "metadata": {
        "id": "fl5swwZnPVjO"
      },
      "outputs": [],
      "source": [
        "plt.rcdefaults()\n",
        "plt.style.use('seaborn-white')"
      ]
    },
    {
      "cell_type": "code",
      "execution_count": 21,
      "metadata": {
        "colab": {
          "base_uri": "https://localhost:8080/",
          "height": 425
        },
        "id": "uo_UY4MXPVjP",
        "outputId": "c40f35fc-69e5-4572-efbe-f80b25b99d15"
      },
      "outputs": [
        {
          "output_type": "display_data",
          "data": {
            "text/plain": [
              "<Figure size 640x480 with 1 Axes>"
            ],
            "image/png": "[encoded data removed]"
          },
          "metadata": {}
        }
      ],
      "source": [
        "plt.plot(x, y, marker='o')\n",
        "plt.grid()"
      ]
    },
    {
      "cell_type": "markdown",
      "metadata": {
        "id": "K2iJCFIVPVjP"
      },
      "source": [
        "## Pandas\n",
        "Fornece estruturas de dados e funcionalidades para manipular e analisar dados de forma eficiente.\n",
        "\n",
        "Principais estruturas de dados:\n",
        "- Series - array unidimensional cujas linhas e colunas podem receber rótulos (labels).\n",
        "- DataFrame - array multidimensional cujas linhas e colunas podem receber rótulos (labels)."
      ]
    },
    {
      "cell_type": "code",
      "execution_count": 27,
      "metadata": {
        "id": "kc0di5_APVjQ"
      },
      "outputs": [],
      "source": [
        "%matplotlib inline\n",
        "import numpy as np\n",
        "import pandas as pd"
      ]
    },
    {
      "cell_type": "markdown",
      "metadata": {
        "id": "mNu3mBQ9PVjQ"
      },
      "source": [
        "### Series"
      ]
    },
    {
      "cell_type": "markdown",
      "source": [
        "Cria um array com labels default."
      ],
      "metadata": {
        "id": "LSPQuBoDLi61"
      }
    },
    {
      "cell_type": "code",
      "execution_count": 23,
      "metadata": {
        "colab": {
          "base_uri": "https://localhost:8080/"
        },
        "id": "JGk-iV9CPVjR",
        "outputId": "725cdffa-ff2c-44af-a41f-7e5f24feda7a"
      },
      "outputs": [
        {
          "output_type": "stream",
          "name": "stdout",
          "text": [
            "0    2\n",
            "1    7\n",
            "2    5\n",
            "3    1\n",
            "4    4\n",
            "dtype: int64\n"
          ]
        }
      ],
      "source": [
        "s1 = pd.Series([2, 7, 5, 1, 4])\n",
        "print(s1)"
      ]
    },
    {
      "cell_type": "markdown",
      "source": [
        "Cria um array e associa as labels a um vetor 'rotulos'"
      ],
      "metadata": {
        "id": "SFLzlP2cLo4K"
      }
    },
    {
      "cell_type": "code",
      "execution_count": 24,
      "metadata": {
        "colab": {
          "base_uri": "https://localhost:8080/"
        },
        "id": "2aSx63hrPVjS",
        "outputId": "f2e86dda-d9ac-4a58-fc1c-5c824dba8921"
      },
      "outputs": [
        {
          "output_type": "stream",
          "name": "stdout",
          "text": [
            "a    2\n",
            "b    7\n",
            "c    5\n",
            "d    1\n",
            "e    4\n",
            "dtype: int64\n"
          ]
        }
      ],
      "source": [
        "lista = [2, 7, 5, 1, 4]\n",
        "rotulos = ['a', 'b', 'c', 'd', 'e']\n",
        "s2 = pd.Series(lista, index=rotulos)\n",
        "print(s2)"
      ]
    },
    {
      "cell_type": "markdown",
      "source": [
        "Imprime um valor do vetor passando sua posição como parâmetro e em seguida imprime o mesmo valor passando a label como parâmetro."
      ],
      "metadata": {
        "id": "cwzmF3QcLzGl"
      }
    },
    {
      "cell_type": "code",
      "execution_count": 25,
      "metadata": {
        "colab": {
          "base_uri": "https://localhost:8080/"
        },
        "id": "KNtpC6iiPVjS",
        "outputId": "5e4e9e07-8115-4bea-cb8f-14b73c3bd49e"
      },
      "outputs": [
        {
          "output_type": "stream",
          "name": "stdout",
          "text": [
            "5\n",
            "5\n"
          ]
        }
      ],
      "source": [
        "print(s1[2])\n",
        "print(s2['c'])"
      ]
    },
    {
      "cell_type": "markdown",
      "source": [
        "Plota um gráfico do vetorXlabel. "
      ],
      "metadata": {
        "id": "tAJmBxtpQtbV"
      }
    },
    {
      "cell_type": "code",
      "execution_count": null,
      "metadata": {
        "id": "LTHuw8KDPVjT"
      },
      "outputs": [],
      "source": [
        "s1.plot(marker='o', grid=True);"
      ]
    },
    {
      "cell_type": "markdown",
      "metadata": {
        "id": "QjMy2IE6PVjU"
      },
      "source": [
        "### DataFrames"
      ]
    },
    {
      "cell_type": "markdown",
      "source": [
        "Cria dataframe e associa um vetor para as labels verticias e outro vetor para as labels horizontais."
      ],
      "metadata": {
        "id": "jnbMz1zCRQ8s"
      }
    },
    {
      "cell_type": "code",
      "execution_count": null,
      "metadata": {
        "id": "c9_YM95VPVjU",
        "outputId": "0d23ec48-f0e3-4498-fa01-5cf1c8586f9a"
      },
      "outputs": [
        {
          "data": {
            "text/html": [
              "<div>\n",
              "<style scoped>\n",
              "    .dataframe tbody tr th:only-of-type {\n",
              "        vertical-align: middle;\n",
              "    }\n",
              "\n",
              "    .dataframe tbody tr th {\n",
              "        vertical-align: top;\n",
              "    }\n",
              "\n",
              "    .dataframe thead th {\n",
              "        text-align: right;\n",
              "    }\n",
              "</style>\n",
              "<table border=\"1\" class=\"dataframe\">\n",
              "  <thead>\n",
              "    <tr style=\"text-align: right;\">\n",
              "      <th></th>\n",
              "      <th>C1</th>\n",
              "      <th>C2</th>\n",
              "      <th>C3</th>\n",
              "    </tr>\n",
              "  </thead>\n",
              "  <tbody>\n",
              "    <tr>\n",
              "      <th>L1</th>\n",
              "      <td>1</td>\n",
              "      <td>2</td>\n",
              "      <td>3</td>\n",
              "    </tr>\n",
              "    <tr>\n",
              "      <th>L2</th>\n",
              "      <td>4</td>\n",
              "      <td>5</td>\n",
              "      <td>6</td>\n",
              "    </tr>\n",
              "  </tbody>\n",
              "</table>\n",
              "</div>"
            ],
            "text/plain": [
              "    C1  C2  C3\n",
              "L1   1   2   3\n",
              "L2   4   5   6"
            ]
          },
          "execution_count": 47,
          "metadata": {},
          "output_type": "execute_result"
        }
      ],
      "source": [
        "matriz = np.array([[1, 2, 3], [4, 5, 6]])\n",
        "nomes_linhas = ['L1', 'L2']\n",
        "nomes_cols = ['C1', 'C2', 'C3']\n",
        "\n",
        "df = pd.DataFrame(matriz, index=nomes_linhas, columns=nomes_cols)\n",
        "df"
      ]
    },
    {
      "cell_type": "markdown",
      "source": [
        "Imprime o dataframe"
      ],
      "metadata": {
        "id": "rPl33eKgR4Yk"
      }
    },
    {
      "cell_type": "code",
      "execution_count": null,
      "metadata": {
        "id": "KoBXVyDKPVjV",
        "outputId": "dcb814e2-73ca-4c43-efdd-08ebe2e05e17"
      },
      "outputs": [
        {
          "name": "stdout",
          "output_type": "stream",
          "text": [
            "    C1  C2  C3\n",
            "L1   1   2   3\n",
            "L2   4   5   6\n"
          ]
        }
      ],
      "source": [
        "print(df)"
      ]
    },
    {
      "cell_type": "markdown",
      "source": [
        "Imprime o dataframe na notação latex."
      ],
      "metadata": {
        "id": "ZeP3vrW5SA4l"
      }
    },
    {
      "cell_type": "code",
      "execution_count": null,
      "metadata": {
        "id": "odk0-BolPVjV",
        "outputId": "04c3d8f1-a6ab-4686-e647-aff4f5024687"
      },
      "outputs": [
        {
          "name": "stdout",
          "output_type": "stream",
          "text": [
            "\\begin{tabular}{lrrr}\n",
            "\\toprule\n",
            "{} &  C1 &  C2 &  C3 \\\\\n",
            "\\midrule\n",
            "L1 &   1 &   2 &   3 \\\\\n",
            "L2 &   4 &   5 &   6 \\\\\n",
            "\\bottomrule\n",
            "\\end{tabular}\n",
            "\n"
          ]
        }
      ],
      "source": [
        "print(df.to_latex())"
      ]
    },
    {
      "cell_type": "markdown",
      "source": [
        "Associa um conjunto de valores a uma label."
      ],
      "metadata": {
        "id": "CmgWeuBNSJ6T"
      }
    },
    {
      "cell_type": "code",
      "execution_count": null,
      "metadata": {
        "id": "reXs6cEMPVjV",
        "outputId": "b06b0afd-13d6-48a7-a8f6-ae71b6237f6e"
      },
      "outputs": [
        {
          "data": {
            "text/html": [
              "<div>\n",
              "<style scoped>\n",
              "    .dataframe tbody tr th:only-of-type {\n",
              "        vertical-align: middle;\n",
              "    }\n",
              "\n",
              "    .dataframe tbody tr th {\n",
              "        vertical-align: top;\n",
              "    }\n",
              "\n",
              "    .dataframe thead th {\n",
              "        text-align: right;\n",
              "    }\n",
              "</style>\n",
              "<table border=\"1\" class=\"dataframe\">\n",
              "  <thead>\n",
              "    <tr style=\"text-align: right;\">\n",
              "      <th></th>\n",
              "      <th>C1</th>\n",
              "      <th>C2</th>\n",
              "      <th>C3</th>\n",
              "      <th>C4</th>\n",
              "    </tr>\n",
              "  </thead>\n",
              "  <tbody>\n",
              "    <tr>\n",
              "      <th>L1</th>\n",
              "      <td>1</td>\n",
              "      <td>2</td>\n",
              "      <td>3</td>\n",
              "      <td>4</td>\n",
              "    </tr>\n",
              "    <tr>\n",
              "      <th>L2</th>\n",
              "      <td>4</td>\n",
              "      <td>5</td>\n",
              "      <td>6</td>\n",
              "      <td>7</td>\n",
              "    </tr>\n",
              "  </tbody>\n",
              "</table>\n",
              "</div>"
            ],
            "text/plain": [
              "    C1  C2  C3  C4\n",
              "L1   1   2   3   4\n",
              "L2   4   5   6   7"
            ]
          },
          "execution_count": 50,
          "metadata": {},
          "output_type": "execute_result"
        }
      ],
      "source": [
        "df['C4'] = [4, 7]\n",
        "df"
      ]
    },
    {
      "cell_type": "markdown",
      "source": [
        "Imprime um grafico de barras do dataframe."
      ],
      "metadata": {
        "id": "gIsl8PolSWjv"
      }
    },
    {
      "cell_type": "code",
      "execution_count": null,
      "metadata": {
        "id": "Q9_Nq-oNPVjX",
        "outputId": "5f8e18b0-3293-4026-b758-cb437a399148"
      },
      "outputs": [
        {
          "data": {
            "image/png": "[encoded data removed]",
            "text/plain": [
              "<Figure size 432x288 with 1 Axes>"
            ]
          },
          "metadata": {
            "needs_background": "light"
          },
          "output_type": "display_data"
        }
      ],
      "source": [
        "df.plot(kind='bar', grid=True, title='Título');"
      ]
    },
    {
      "cell_type": "markdown",
      "source": [
        "Transposiciona o dataframe."
      ],
      "metadata": {
        "id": "xd5KKyZgSenP"
      }
    },
    {
      "cell_type": "code",
      "execution_count": null,
      "metadata": {
        "id": "ekjvIKOYPVjX",
        "outputId": "10234b93-bf54-4d98-abde-a5462b4e92a1"
      },
      "outputs": [
        {
          "data": {
            "text/html": [
              "<div>\n",
              "<style scoped>\n",
              "    .dataframe tbody tr th:only-of-type {\n",
              "        vertical-align: middle;\n",
              "    }\n",
              "\n",
              "    .dataframe tbody tr th {\n",
              "        vertical-align: top;\n",
              "    }\n",
              "\n",
              "    .dataframe thead th {\n",
              "        text-align: right;\n",
              "    }\n",
              "</style>\n",
              "<table border=\"1\" class=\"dataframe\">\n",
              "  <thead>\n",
              "    <tr style=\"text-align: right;\">\n",
              "      <th></th>\n",
              "      <th>L1</th>\n",
              "      <th>L2</th>\n",
              "    </tr>\n",
              "  </thead>\n",
              "  <tbody>\n",
              "    <tr>\n",
              "      <th>C1</th>\n",
              "      <td>1</td>\n",
              "      <td>4</td>\n",
              "    </tr>\n",
              "    <tr>\n",
              "      <th>C2</th>\n",
              "      <td>2</td>\n",
              "      <td>5</td>\n",
              "    </tr>\n",
              "    <tr>\n",
              "      <th>C3</th>\n",
              "      <td>3</td>\n",
              "      <td>6</td>\n",
              "    </tr>\n",
              "    <tr>\n",
              "      <th>C4</th>\n",
              "      <td>4</td>\n",
              "      <td>7</td>\n",
              "    </tr>\n",
              "  </tbody>\n",
              "</table>\n",
              "</div>"
            ],
            "text/plain": [
              "    L1  L2\n",
              "C1   1   4\n",
              "C2   2   5\n",
              "C3   3   6\n",
              "C4   4   7"
            ]
          },
          "execution_count": 52,
          "metadata": {},
          "output_type": "execute_result"
        }
      ],
      "source": [
        "df2 = df.transpose()\n",
        "df2"
      ]
    },
    {
      "cell_type": "markdown",
      "source": [
        "imprime o dataframe transposto."
      ],
      "metadata": {
        "id": "bwMk1JMkSk_Y"
      }
    },
    {
      "cell_type": "code",
      "execution_count": null,
      "metadata": {
        "id": "Bkp-y8OBPVjY",
        "outputId": "f6e54173-a973-4ed9-949e-de6302c8698d"
      },
      "outputs": [
        {
          "data": {
            "image/png": "[encoded data removed]",
            "text/plain": [
              "<Figure size 432x288 with 1 Axes>"
            ]
          },
          "metadata": {
            "needs_background": "light"
          },
          "output_type": "display_data"
        }
      ],
      "source": [
        "df2.plot(kind='bar', grid=True);"
      ]
    },
    {
      "cell_type": "markdown",
      "source": [
        "Preenche de forma aleatória o dataframe."
      ],
      "metadata": {
        "id": "bdtos6S3Sqto"
      }
    },
    {
      "cell_type": "code",
      "execution_count": null,
      "metadata": {
        "id": "LLD-rX40PVjY",
        "outputId": "28d859af-8188-4608-c46d-cf0720db59c9"
      },
      "outputs": [
        {
          "data": {
            "text/html": [
              "<div>\n",
              "<style scoped>\n",
              "    .dataframe tbody tr th:only-of-type {\n",
              "        vertical-align: middle;\n",
              "    }\n",
              "\n",
              "    .dataframe tbody tr th {\n",
              "        vertical-align: top;\n",
              "    }\n",
              "\n",
              "    .dataframe thead th {\n",
              "        text-align: right;\n",
              "    }\n",
              "</style>\n",
              "<table border=\"1\" class=\"dataframe\">\n",
              "  <thead>\n",
              "    <tr style=\"text-align: right;\">\n",
              "      <th></th>\n",
              "      <th>C1</th>\n",
              "      <th>C2</th>\n",
              "      <th>C3</th>\n",
              "      <th>C4</th>\n",
              "    </tr>\n",
              "  </thead>\n",
              "  <tbody>\n",
              "    <tr>\n",
              "      <th>L2</th>\n",
              "      <td>4</td>\n",
              "      <td>5</td>\n",
              "      <td>6</td>\n",
              "      <td>7</td>\n",
              "    </tr>\n",
              "    <tr>\n",
              "      <th>L1</th>\n",
              "      <td>1</td>\n",
              "      <td>2</td>\n",
              "      <td>3</td>\n",
              "      <td>4</td>\n",
              "    </tr>\n",
              "  </tbody>\n",
              "</table>\n",
              "</div>"
            ],
            "text/plain": [
              "    C1  C2  C3  C4\n",
              "L2   4   5   6   7\n",
              "L1   1   2   3   4"
            ]
          },
          "execution_count": 54,
          "metadata": {},
          "output_type": "execute_result"
        }
      ],
      "source": [
        "df.sort_values(by='C4', ascending=False)"
      ]
    },
    {
      "cell_type": "code",
      "execution_count": null,
      "metadata": {
        "id": "3Mx6qS7ZPVjY",
        "outputId": "350b2a16-9b9f-40d7-c3e6-ce959a023278"
      },
      "outputs": [
        {
          "data": {
            "text/html": [
              "<div>\n",
              "<style scoped>\n",
              "    .dataframe tbody tr th:only-of-type {\n",
              "        vertical-align: middle;\n",
              "    }\n",
              "\n",
              "    .dataframe tbody tr th {\n",
              "        vertical-align: top;\n",
              "    }\n",
              "\n",
              "    .dataframe thead th {\n",
              "        text-align: right;\n",
              "    }\n",
              "</style>\n",
              "<table border=\"1\" class=\"dataframe\">\n",
              "  <thead>\n",
              "    <tr style=\"text-align: right;\">\n",
              "      <th></th>\n",
              "      <th>C1</th>\n",
              "      <th>C2</th>\n",
              "      <th>C3</th>\n",
              "      <th>C4</th>\n",
              "    </tr>\n",
              "  </thead>\n",
              "  <tbody>\n",
              "    <tr>\n",
              "      <th>L1</th>\n",
              "      <td>1</td>\n",
              "      <td>2</td>\n",
              "      <td>3</td>\n",
              "      <td>4</td>\n",
              "    </tr>\n",
              "    <tr>\n",
              "      <th>L2</th>\n",
              "      <td>4</td>\n",
              "      <td>5</td>\n",
              "      <td>6</td>\n",
              "      <td>7</td>\n",
              "    </tr>\n",
              "  </tbody>\n",
              "</table>\n",
              "</div>"
            ],
            "text/plain": [
              "    C1  C2  C3  C4\n",
              "L1   1   2   3   4\n",
              "L2   4   5   6   7"
            ]
          },
          "execution_count": 55,
          "metadata": {},
          "output_type": "execute_result"
        }
      ],
      "source": [
        "df"
      ]
    }
  ],
  "metadata": {
    "kernelspec": {
      "display_name": "Python 3",
      "language": "python",
      "name": "python3"
    },
    "language_info": {
      "codemirror_mode": {
        "name": "ipython",
        "version": 3
      },
      "file_extension": ".py",
      "mimetype": "text/x-python",
      "name": "python",
      "nbconvert_exporter": "python",
      "pygments_lexer": "ipython3",
      "version": "3.6.8"
    },
    "colab": {
      "provenance": []
    }
  },
  "nbformat": 4,
  "nbformat_minor": 0
}