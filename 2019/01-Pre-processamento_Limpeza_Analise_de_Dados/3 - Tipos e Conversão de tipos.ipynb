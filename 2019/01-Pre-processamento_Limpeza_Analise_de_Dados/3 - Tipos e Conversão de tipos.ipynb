{
  "cells": [
    {
      "cell_type": "markdown",
      "metadata": {
        "id": "y2mM7BqJVpGS"
      },
      "source": [
        "# 3 - Tipos e Conversão de tipos\n",
        "O Numpy suporta uma variedade de tipos muito maior do que o Python."
      ]
    },
    {
      "cell_type": "markdown",
      "metadata": {
        "id": "FzI0_3CKVpGY"
      },
      "source": [
        "Existem 5 tipos básicos numéricos\n",
        "- Booleans (bool)\n",
        "- Integers (int)\n",
        "- Unsigned Intergers (uint)\n",
        "- Floating Points (float)\n",
        "- Complex\n",
        "\n",
        "Complementarmente, a célula abaixo mostra um quadro comparativos com uma maior quantidade de tipos do Numpy."
      ]
    },
    {
      "cell_type": "markdown",
      "metadata": {
        "id": "c22TvIV2VpGa"
      },
      "source": [
        "![datatypes.png](attachment:datatypes.png)"
      ]
    },
    {
      "cell_type": "code",
      "execution_count": 1,
      "metadata": {
        "id": "FaYYmb1jVpGd"
      },
      "outputs": [],
      "source": [
        "import numpy as np"
      ]
    },
    {
      "cell_type": "markdown",
      "source": [
        "Declara uma variável x do tipo float."
      ],
      "metadata": {
        "id": "6f4TMbGHYK4N"
      }
    },
    {
      "cell_type": "code",
      "execution_count": 2,
      "metadata": {
        "id": "NDrpCqknVpGf",
        "outputId": "749e9765-b65e-46ad-f180-e616764f3d19",
        "colab": {
          "base_uri": "https://localhost:8080/"
        }
      },
      "outputs": [
        {
          "output_type": "execute_result",
          "data": {
            "text/plain": [
              "1.0"
            ]
          },
          "metadata": {},
          "execution_count": 2
        }
      ],
      "source": [
        "x = np.float32(1.0)\n",
        "x"
      ]
    },
    {
      "cell_type": "markdown",
      "source": [
        "Declara um vetor do tipo int com três valores."
      ],
      "metadata": {
        "id": "zGS79etJYQ6C"
      }
    },
    {
      "cell_type": "code",
      "execution_count": 3,
      "metadata": {
        "id": "jLewhy7RVpGh",
        "outputId": "392b992c-fafb-4d54-890d-20edc2660d6b",
        "colab": {
          "base_uri": "https://localhost:8080/"
        }
      },
      "outputs": [
        {
          "output_type": "execute_result",
          "data": {
            "text/plain": [
              "array([1, 2, 4])"
            ]
          },
          "metadata": {},
          "execution_count": 3
        }
      ],
      "source": [
        "y = np.int_([1,2,4])\n",
        "y"
      ]
    },
    {
      "cell_type": "code",
      "execution_count": 4,
      "metadata": {
        "id": "WS6fV2cJVpGi",
        "outputId": "02f3b265-7185-45af-f1fe-36870aa03d9c",
        "colab": {
          "base_uri": "https://localhost:8080/"
        }
      },
      "outputs": [
        {
          "output_type": "execute_result",
          "data": {
            "text/plain": [
              "array([0, 1, 2], dtype=uint8)"
            ]
          },
          "metadata": {},
          "execution_count": 4
        }
      ],
      "source": [
        "z = np.arange(3, dtype=np.uint8)\n",
        "z"
      ]
    },
    {
      "cell_type": "code",
      "execution_count": 5,
      "metadata": {
        "id": "fQCGIPH3VpGj",
        "outputId": "8262af0c-33e7-44cd-f833-541a96d3fe3b",
        "colab": {
          "base_uri": "https://localhost:8080/"
        }
      },
      "outputs": [
        {
          "output_type": "execute_result",
          "data": {
            "text/plain": [
              "array([1., 2., 3.], dtype=float32)"
            ]
          },
          "metadata": {},
          "execution_count": 5
        }
      ],
      "source": [
        "np.array([1, 2, 3], dtype='f')"
      ]
    },
    {
      "cell_type": "markdown",
      "metadata": {
        "id": "ud4Dr6biVpGk"
      },
      "source": [
        "## Convertendo tipos de arrays"
      ]
    },
    {
      "cell_type": "markdown",
      "metadata": {
        "id": "XQnypDzlVpGm"
      },
      "source": [
        "Para convertermos arrays Numpy, basta utilizarmos o método astype()."
      ]
    },
    {
      "cell_type": "code",
      "execution_count": 6,
      "metadata": {
        "id": "1FdX-oZNVpGm",
        "outputId": "334d1d5c-5951-4f6f-f50b-1b923b4d81d3",
        "colab": {
          "base_uri": "https://localhost:8080/"
        }
      },
      "outputs": [
        {
          "output_type": "execute_result",
          "data": {
            "text/plain": [
              "array([0., 1., 2.])"
            ]
          },
          "metadata": {},
          "execution_count": 6
        }
      ],
      "source": [
        "z.astype(float)"
      ]
    },
    {
      "cell_type": "code",
      "execution_count": 7,
      "metadata": {
        "id": "m1gBPXCNVpGo",
        "outputId": "63148c08-f1ed-4759-e45d-4bab7d5dcf38",
        "colab": {
          "base_uri": "https://localhost:8080/"
        }
      },
      "outputs": [
        {
          "output_type": "execute_result",
          "data": {
            "text/plain": [
              "array([0, 1, 2], dtype=int8)"
            ]
          },
          "metadata": {},
          "execution_count": 7
        }
      ],
      "source": [
        "np.int8(z)"
      ]
    },
    {
      "cell_type": "markdown",
      "metadata": {
        "id": "5jcYrD8MVpGp"
      },
      "source": [
        "Para verificarmos o tipo de um array Numpy, basta verificarmos o seu atributo dtype."
      ]
    },
    {
      "cell_type": "code",
      "execution_count": 8,
      "metadata": {
        "id": "oSEOtFBSVpGp",
        "outputId": "9fe26a7e-f6c6-4bc2-ef6c-7db36256ca3d",
        "colab": {
          "base_uri": "https://localhost:8080/"
        }
      },
      "outputs": [
        {
          "output_type": "execute_result",
          "data": {
            "text/plain": [
              "dtype('uint8')"
            ]
          },
          "metadata": {},
          "execution_count": 8
        }
      ],
      "source": [
        "z.dtype"
      ]
    }
  ],
  "metadata": {
    "kernelspec": {
      "display_name": "Python 3",
      "language": "python",
      "name": "python3"
    },
    "language_info": {
      "codemirror_mode": {
        "name": "ipython",
        "version": 3
      },
      "file_extension": ".py",
      "mimetype": "text/x-python",
      "name": "python",
      "nbconvert_exporter": "python",
      "pygments_lexer": "ipython3",
      "version": "3.6.8"
    },
    "colab": {
      "provenance": []
    }
  },
  "nbformat": 4,
  "nbformat_minor": 0
}