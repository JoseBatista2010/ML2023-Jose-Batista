{
  "nbformat": 4,
  "nbformat_minor": 0,
  "metadata": {
    "colab": {
      "provenance": [],
      "mount_file_id": "15LVwqeHBsd50KiuTQQayn_iPgL89tLiQ",
      "authorship_tag": "ABX9TyOdt8NFKr0FQAXjO3eAknCw",
      "include_colab_link": true
    },
    "kernelspec": {
      "name": "python3",
      "display_name": "Python 3"
    },
    "language_info": {
      "name": "python"
    }
  },
  "cells": [
    {
      "cell_type": "markdown",
      "metadata": {
        "id": "view-in-github",
        "colab_type": "text"
      },
      "source": [
        "<a href=\"https://colab.research.google.com/github/JoseBatista2010/ML2023-Jose-Batista/blob/master/Limpando_e_Filtrando_Dados.ipynb\" target=\"_parent\"><img src=\"https://colab.research.google.com/assets/colab-badge.svg\" alt=\"Open In Colab\"/></a>"
      ]
    },
    {
      "cell_type": "markdown",
      "source": [
        "**IMPORTS DAS BIBLIOTECAS NECESSÁRIAS PARA MANIPULAÇÃO**"
      ],
      "metadata": {
        "id": "nfhzlsWWO2YX"
      }
    },
    {
      "cell_type": "code",
      "execution_count": null,
      "metadata": {
        "id": "rR2ilNX2rpPQ"
      },
      "outputs": [],
      "source": [
        "import matplotlib.pyplot as plt\n",
        "import pandas as pd\n",
        "import re\n",
        "plt.style.use(['ggplot', 'dark_background'])\n"
      ]
    },
    {
      "cell_type": "markdown",
      "source": [
        "**PATH PARA O ENDEREÇO DA TABELA NO GOOGLE DRIVE**"
      ],
      "metadata": {
        "id": "Y_Tfih60PVl4"
      }
    },
    {
      "cell_type": "code",
      "source": [
        "path = '/content/drive/MyDrive/UFC/2023_1/Machine_Learning/Dataset/Feminicidio_2015_2022.xlsx'\n",
        "\n",
        "df0 = pd.read_excel(path, sheet_name= 0)\n",
        "df1 = pd.read_excel(path, sheet_name= 1)\n",
        "df2 = pd.read_excel(path, sheet_name= 2)\n",
        "df3 = pd.read_excel(path, sheet_name= 3)\n",
        "df4 = pd.read_excel(path, sheet_name= 4)\n",
        "df5 = pd.read_excel(path, sheet_name= 5)\n",
        "df6 = pd.read_excel(path, sheet_name= 6)\n",
        "df7 = pd.read_excel(path, sheet_name= 7)\n",
        "\n",
        "df = pd.concat([df0, df1, df2, df3, df4, df5, df6, df7], axis=0)\n",
        "\n",
        "df = df.loc[df['MUNICIPIO_CIRCUNSCRICAO'] == 'São Paulo']\n",
        "df.fillna(\"NOT SPECIFIED\", inplace=True)"
      ],
      "metadata": {
        "colab": {
          "base_uri": "https://localhost:8080/"
        },
        "id": "nOHfr38MOoc8",
        "outputId": "b9d63a75-1570-4709-e41e-6cb04819870d"
      },
      "execution_count": null,
      "outputs": [
        {
          "output_type": "stream",
          "name": "stderr",
          "text": [
            "/usr/local/lib/python3.9/dist-packages/openpyxl/worksheet/_reader.py:312: UserWarning: Data Validation extension is not supported and will be removed\n",
            "  warn(msg)\n"
          ]
        }
      ]
    },
    {
      "cell_type": "markdown",
      "source": [
        "**PASSANDO TODOS OS CARACTERES PARA LOWERCASE**"
      ],
      "metadata": {
        "id": "LZkrHRiKAXny"
      }
    },
    {
      "cell_type": "code",
      "source": [
        "for col in df.columns:\n",
        "    # Verifica se a coluna é do tipo string\n",
        "    if df[col].dtype == 'object':\n",
        "        # Converte todos os caracteres em minúsculas\n",
        "        df[col] = df[col].str.lower()"
      ],
      "metadata": {
        "id": "aH-ZcFJkp1Wq"
      },
      "execution_count": null,
      "outputs": []
    },
    {
      "cell_type": "markdown",
      "source": [],
      "metadata": {
        "id": "K9gC0p9VJ-YC"
      }
    },
    {
      "cell_type": "markdown",
      "source": [
        "**SEPARANDO A DATA DE NASCIMENTO**"
      ],
      "metadata": {
        "id": "j3LkxcEYBUgJ"
      }
    },
    {
      "cell_type": "code",
      "source": [
        "df['DATA_NASCIMENTO_PESSOA'] = pd.to_datetime(df['DATA_NASCIMENTO_PESSOA'], errors='coerce')\n",
        "\n",
        "df['ANO'] = df['DATA_NASCIMENTO_PESSOA'].dt.year\n",
        "df['MES'] = df['DATA_NASCIMENTO_PESSOA'].dt.month\n",
        "df['DIA'] = df['DATA_NASCIMENTO_PESSOA'].dt.day\n",
        "\n",
        "df['MES_BO'] = df['DATAHORA_REGISTRO_BO'].dt.month\n",
        "df['DIA_BO'] = df['DATAHORA_REGISTRO_BO'].dt.day"
      ],
      "metadata": {
        "id": "_6erWGSRAmWs"
      },
      "execution_count": null,
      "outputs": []
    },
    {
      "cell_type": "markdown",
      "source": [
        "**RELAÇÂO DIA/MÊS DO B.O**"
      ],
      "metadata": {
        "id": "fzTylj8hBalM"
      }
    },
    {
      "cell_type": "code",
      "source": [
        "plt.bar(df['MES_BO'], df['DIA_BO'])"
      ],
      "metadata": {
        "colab": {
          "base_uri": "https://localhost:8080/",
          "height": 282
        },
        "id": "EVV4sIdjKh8b",
        "outputId": "077a523a-25ce-4e2f-8d5d-beee0bc3b07c"
      },
      "execution_count": null,
      "outputs": [
        {
          "output_type": "execute_result",
          "data": {
            "text/plain": [
              "<BarContainer object of 232 artists>"
            ]
          },
          "metadata": {},
          "execution_count": 5
        },
        {
          "output_type": "display_data",
          "data": {
            "text/plain": [
              "<Figure size 432x288 with 1 Axes>"
            ],
            "image/png": "[encoded data removed]"
          },
          "metadata": {}
        }
      ]
    },
    {
      "cell_type": "code",
      "source": [
        "\n",
        "df\n"
      ],
      "metadata": {
        "colab": {
          "base_uri": "https://localhost:8080/",
          "height": 1000
        },
        "id": "MtLH90bDcXEE",
        "outputId": "e2eafd0b-7bce-49a8-e51a-314f824c9aea"
      },
      "execution_count": null,
      "outputs": [
        {
          "output_type": "execute_result",
          "data": {
            "text/plain": [
              "    DEPARTAMENTO_CIRCUNSCRICAO SECCIONAL_CIRCUNSCRICAO  \\\n",
              "3                        decap                  8ª sec   \n",
              "6                        decap                  8ª sec   \n",
              "34                       decap                  7ª sec   \n",
              "35                       decap                  2ª sec   \n",
              "39                       decap                  6ª sec   \n",
              "..                         ...                     ...   \n",
              "176                      decap                  4ª sec   \n",
              "177                      decap                  5ª sec   \n",
              "178                      decap                  6ª sec   \n",
              "179                      decap                  7ª sec   \n",
              "180                      decap                  8ª sec   \n",
              "\n",
              "    MUNICIPIO_CIRCUNSCRICAO           DP_CIRCUNSCRICAO    HD  Nº DE VÍT HD  \\\n",
              "3                 são paulo         049 dp - são mateus  NaN             1   \n",
              "6                 são paulo  055 dp - parque são rafael  NaN             1   \n",
              "34                são paulo           032 dp - itaquera  NaN             1   \n",
              "35                são paulo         095 dp - heliópolis  NaN             1   \n",
              "39                são paulo      047 dp - capão redondo  NaN             1   \n",
              "..                      ...                         ...  ...           ...   \n",
              "176               são paulo            074 dp - jaraguá  NaN             1   \n",
              "177               são paulo   042 dp - parque são lucas  NaN             1   \n",
              "178               são paulo      047 dp - capão redondo  NaN             1   \n",
              "179               são paulo         063 dp - vila jacuí  NaN             1   \n",
              "180               são paulo  055 dp - parque são rafael  NaN             1   \n",
              "\n",
              "     ID_DELEGACIA  MÊS ESTATISTICA  ANO ESTATISTICA DATAHORA_REGISTRO_BO  ...  \\\n",
              "3           20249                4             2015  2015-04-25 00:40:09  ...   \n",
              "6          200100                5             2015  2015-05-16 19:57:57  ...   \n",
              "34          10326               11             2015  2015-11-28 17:07:48  ...   \n",
              "35          10358               11             2015  2015-11-04 12:15:35  ...   \n",
              "39          10247               12             2015  2015-12-21 12:57:28  ...   \n",
              "..            ...              ...              ...                  ...  ...   \n",
              "176         20103               12             2022  2022-12-19 00:00:00  ...   \n",
              "177         10310               12             2022  2022-12-21 00:00:00  ...   \n",
              "178         10247               12             2022  2022-12-05 00:00:00  ...   \n",
              "179         10326               12             2022  2022-12-10 00:00:00  ...   \n",
              "180         20249               12             2022  2022-12-11 00:00:00  ...   \n",
              "\n",
              "     DATA_NASCIMENTO_PESSOA  COR_PELE                   PROFISSAO  \\\n",
              "3                       NaT    branca                   estudante   \n",
              "6                       NaT     parda                   atendente   \n",
              "34                      NaT    branca   operador(a) telemarketing   \n",
              "35                      NaT    branca      corretor(a) de imoveis   \n",
              "39                      NaT     parda               secretario(a)   \n",
              "..                      ...       ...                         ...   \n",
              "176                     NaT    branca               not specified   \n",
              "177                     NaT    branca         auxiliar de limpeza   \n",
              "178                     NaT     parda  atendente de telemarketing   \n",
              "179                     NaT     parda             cabeleireiro(a)   \n",
              "180                     NaT     preta               not specified   \n",
              "\n",
              "     NATUREZA_APURADA                                      DESDOBRAMENTO ANO  \\\n",
              "3    homicídio doloso  feminicídio-contra a mulher por razões da cond... NaN   \n",
              "6    homicídio doloso  feminicídio-contra a mulher por razões da cond... NaN   \n",
              "34   homicídio doloso  feminicídio-contra a mulher por razões da cond... NaN   \n",
              "35   homicídio doloso  feminicídio-contra a mulher por razões da cond... NaN   \n",
              "39   homicídio doloso  feminicídio-contra a mulher por razões da cond... NaN   \n",
              "..                ...                                                ...  ..   \n",
              "176  homicídio doloso  feminicídio-contra a mulher por razões da cond... NaN   \n",
              "177  homicídio doloso  feminicídio-contra a mulher por razões da cond... NaN   \n",
              "178  homicídio doloso  feminicídio-contra a mulher por razões da cond... NaN   \n",
              "179  homicídio doloso  feminicídio-contra a mulher por razões da cond... NaN   \n",
              "180  homicídio doloso  feminicídio-contra a mulher por razões da cond... NaN   \n",
              "\n",
              "    MES DIA MES_BO DIA_BO  \n",
              "3   NaN NaN      4     25  \n",
              "6   NaN NaN      5     16  \n",
              "34  NaN NaN     11     28  \n",
              "35  NaN NaN     11      4  \n",
              "39  NaN NaN     12     21  \n",
              "..   ..  ..    ...    ...  \n",
              "176 NaN NaN     12     19  \n",
              "177 NaN NaN     12     21  \n",
              "178 NaN NaN     12      5  \n",
              "179 NaN NaN     12     10  \n",
              "180 NaN NaN     12     11  \n",
              "\n",
              "[232 rows x 36 columns]"
            ],
            "text/html": [
              "\n",
              "  <div id=\"df-0ca5b8c6-c189-40b1-83ad-d8daa8cbd2d0\">\n",
              "    <div class=\"colab-df-container\">\n",
              "      <div>\n",
              "<style scoped>\n",
              "    .dataframe tbody tr th:only-of-type {\n",
              "        vertical-align: middle;\n",
              "    }\n",
              "\n",
              "    .dataframe tbody tr th {\n",
              "        vertical-align: top;\n",
              "    }\n",
              "\n",
              "    .dataframe thead th {\n",
              "        text-align: right;\n",
              "    }\n",
              "</style>\n",
              "<table border=\"1\" class=\"dataframe\">\n",
              "  <thead>\n",
              "    <tr style=\"text-align: right;\">\n",
              "      <th></th>\n",
              "      <th>DEPARTAMENTO_CIRCUNSCRICAO</th>\n",
              "      <th>SECCIONAL_CIRCUNSCRICAO</th>\n",
              "      <th>MUNICIPIO_CIRCUNSCRICAO</th>\n",
              "      <th>DP_CIRCUNSCRICAO</th>\n",
              "      <th>HD</th>\n",
              "      <th>Nº DE VÍT HD</th>\n",
              "      <th>ID_DELEGACIA</th>\n",
              "      <th>MÊS ESTATISTICA</th>\n",
              "      <th>ANO ESTATISTICA</th>\n",
              "      <th>DATAHORA_REGISTRO_BO</th>\n",
              "      <th>...</th>\n",
              "      <th>DATA_NASCIMENTO_PESSOA</th>\n",
              "      <th>COR_PELE</th>\n",
              "      <th>PROFISSAO</th>\n",
              "      <th>NATUREZA_APURADA</th>\n",
              "      <th>DESDOBRAMENTO</th>\n",
              "      <th>ANO</th>\n",
              "      <th>MES</th>\n",
              "      <th>DIA</th>\n",
              "      <th>MES_BO</th>\n",
              "      <th>DIA_BO</th>\n",
              "    </tr>\n",
              "  </thead>\n",
              "  <tbody>\n",
              "    <tr>\n",
              "      <th>3</th>\n",
              "      <td>decap</td>\n",
              "      <td>8ª sec</td>\n",
              "      <td>são paulo</td>\n",
              "      <td>049 dp - são mateus</td>\n",
              "      <td>NaN</td>\n",
              "      <td>1</td>\n",
              "      <td>20249</td>\n",
              "      <td>4</td>\n",
              "      <td>2015</td>\n",
              "      <td>2015-04-25 00:40:09</td>\n",
              "      <td>...</td>\n",
              "      <td>NaT</td>\n",
              "      <td>branca</td>\n",
              "      <td>estudante</td>\n",
              "      <td>homicídio doloso</td>\n",
              "      <td>feminicídio-contra a mulher por razões da cond...</td>\n",
              "      <td>NaN</td>\n",
              "      <td>NaN</td>\n",
              "      <td>NaN</td>\n",
              "      <td>4</td>\n",
              "      <td>25</td>\n",
              "    </tr>\n",
              "    <tr>\n",
              "      <th>6</th>\n",
              "      <td>decap</td>\n",
              "      <td>8ª sec</td>\n",
              "      <td>são paulo</td>\n",
              "      <td>055 dp - parque são rafael</td>\n",
              "      <td>NaN</td>\n",
              "      <td>1</td>\n",
              "      <td>200100</td>\n",
              "      <td>5</td>\n",
              "      <td>2015</td>\n",
              "      <td>2015-05-16 19:57:57</td>\n",
              "      <td>...</td>\n",
              "      <td>NaT</td>\n",
              "      <td>parda</td>\n",
              "      <td>atendente</td>\n",
              "      <td>homicídio doloso</td>\n",
              "      <td>feminicídio-contra a mulher por razões da cond...</td>\n",
              "      <td>NaN</td>\n",
              "      <td>NaN</td>\n",
              "      <td>NaN</td>\n",
              "      <td>5</td>\n",
              "      <td>16</td>\n",
              "    </tr>\n",
              "    <tr>\n",
              "      <th>34</th>\n",
              "      <td>decap</td>\n",
              "      <td>7ª sec</td>\n",
              "      <td>são paulo</td>\n",
              "      <td>032 dp - itaquera</td>\n",
              "      <td>NaN</td>\n",
              "      <td>1</td>\n",
              "      <td>10326</td>\n",
              "      <td>11</td>\n",
              "      <td>2015</td>\n",
              "      <td>2015-11-28 17:07:48</td>\n",
              "      <td>...</td>\n",
              "      <td>NaT</td>\n",
              "      <td>branca</td>\n",
              "      <td>operador(a) telemarketing</td>\n",
              "      <td>homicídio doloso</td>\n",
              "      <td>feminicídio-contra a mulher por razões da cond...</td>\n",
              "      <td>NaN</td>\n",
              "      <td>NaN</td>\n",
              "      <td>NaN</td>\n",
              "      <td>11</td>\n",
              "      <td>28</td>\n",
              "    </tr>\n",
              "    <tr>\n",
              "      <th>35</th>\n",
              "      <td>decap</td>\n",
              "      <td>2ª sec</td>\n",
              "      <td>são paulo</td>\n",
              "      <td>095 dp - heliópolis</td>\n",
              "      <td>NaN</td>\n",
              "      <td>1</td>\n",
              "      <td>10358</td>\n",
              "      <td>11</td>\n",
              "      <td>2015</td>\n",
              "      <td>2015-11-04 12:15:35</td>\n",
              "      <td>...</td>\n",
              "      <td>NaT</td>\n",
              "      <td>branca</td>\n",
              "      <td>corretor(a) de imoveis</td>\n",
              "      <td>homicídio doloso</td>\n",
              "      <td>feminicídio-contra a mulher por razões da cond...</td>\n",
              "      <td>NaN</td>\n",
              "      <td>NaN</td>\n",
              "      <td>NaN</td>\n",
              "      <td>11</td>\n",
              "      <td>4</td>\n",
              "    </tr>\n",
              "    <tr>\n",
              "      <th>39</th>\n",
              "      <td>decap</td>\n",
              "      <td>6ª sec</td>\n",
              "      <td>são paulo</td>\n",
              "      <td>047 dp - capão redondo</td>\n",
              "      <td>NaN</td>\n",
              "      <td>1</td>\n",
              "      <td>10247</td>\n",
              "      <td>12</td>\n",
              "      <td>2015</td>\n",
              "      <td>2015-12-21 12:57:28</td>\n",
              "      <td>...</td>\n",
              "      <td>NaT</td>\n",
              "      <td>parda</td>\n",
              "      <td>secretario(a)</td>\n",
              "      <td>homicídio doloso</td>\n",
              "      <td>feminicídio-contra a mulher por razões da cond...</td>\n",
              "      <td>NaN</td>\n",
              "      <td>NaN</td>\n",
              "      <td>NaN</td>\n",
              "      <td>12</td>\n",
              "      <td>21</td>\n",
              "    </tr>\n",
              "    <tr>\n",
              "      <th>...</th>\n",
              "      <td>...</td>\n",
              "      <td>...</td>\n",
              "      <td>...</td>\n",
              "      <td>...</td>\n",
              "      <td>...</td>\n",
              "      <td>...</td>\n",
              "      <td>...</td>\n",
              "      <td>...</td>\n",
              "      <td>...</td>\n",
              "      <td>...</td>\n",
              "      <td>...</td>\n",
              "      <td>...</td>\n",
              "      <td>...</td>\n",
              "      <td>...</td>\n",
              "      <td>...</td>\n",
              "      <td>...</td>\n",
              "      <td>...</td>\n",
              "      <td>...</td>\n",
              "      <td>...</td>\n",
              "      <td>...</td>\n",
              "      <td>...</td>\n",
              "    </tr>\n",
              "    <tr>\n",
              "      <th>176</th>\n",
              "      <td>decap</td>\n",
              "      <td>4ª sec</td>\n",
              "      <td>são paulo</td>\n",
              "      <td>074 dp - jaraguá</td>\n",
              "      <td>NaN</td>\n",
              "      <td>1</td>\n",
              "      <td>20103</td>\n",
              "      <td>12</td>\n",
              "      <td>2022</td>\n",
              "      <td>2022-12-19 00:00:00</td>\n",
              "      <td>...</td>\n",
              "      <td>NaT</td>\n",
              "      <td>branca</td>\n",
              "      <td>not specified</td>\n",
              "      <td>homicídio doloso</td>\n",
              "      <td>feminicídio-contra a mulher por razões da cond...</td>\n",
              "      <td>NaN</td>\n",
              "      <td>NaN</td>\n",
              "      <td>NaN</td>\n",
              "      <td>12</td>\n",
              "      <td>19</td>\n",
              "    </tr>\n",
              "    <tr>\n",
              "      <th>177</th>\n",
              "      <td>decap</td>\n",
              "      <td>5ª sec</td>\n",
              "      <td>são paulo</td>\n",
              "      <td>042 dp - parque são lucas</td>\n",
              "      <td>NaN</td>\n",
              "      <td>1</td>\n",
              "      <td>10310</td>\n",
              "      <td>12</td>\n",
              "      <td>2022</td>\n",
              "      <td>2022-12-21 00:00:00</td>\n",
              "      <td>...</td>\n",
              "      <td>NaT</td>\n",
              "      <td>branca</td>\n",
              "      <td>auxiliar de limpeza</td>\n",
              "      <td>homicídio doloso</td>\n",
              "      <td>feminicídio-contra a mulher por razões da cond...</td>\n",
              "      <td>NaN</td>\n",
              "      <td>NaN</td>\n",
              "      <td>NaN</td>\n",
              "      <td>12</td>\n",
              "      <td>21</td>\n",
              "    </tr>\n",
              "    <tr>\n",
              "      <th>178</th>\n",
              "      <td>decap</td>\n",
              "      <td>6ª sec</td>\n",
              "      <td>são paulo</td>\n",
              "      <td>047 dp - capão redondo</td>\n",
              "      <td>NaN</td>\n",
              "      <td>1</td>\n",
              "      <td>10247</td>\n",
              "      <td>12</td>\n",
              "      <td>2022</td>\n",
              "      <td>2022-12-05 00:00:00</td>\n",
              "      <td>...</td>\n",
              "      <td>NaT</td>\n",
              "      <td>parda</td>\n",
              "      <td>atendente de telemarketing</td>\n",
              "      <td>homicídio doloso</td>\n",
              "      <td>feminicídio-contra a mulher por razões da cond...</td>\n",
              "      <td>NaN</td>\n",
              "      <td>NaN</td>\n",
              "      <td>NaN</td>\n",
              "      <td>12</td>\n",
              "      <td>5</td>\n",
              "    </tr>\n",
              "    <tr>\n",
              "      <th>179</th>\n",
              "      <td>decap</td>\n",
              "      <td>7ª sec</td>\n",
              "      <td>são paulo</td>\n",
              "      <td>063 dp - vila jacuí</td>\n",
              "      <td>NaN</td>\n",
              "      <td>1</td>\n",
              "      <td>10326</td>\n",
              "      <td>12</td>\n",
              "      <td>2022</td>\n",
              "      <td>2022-12-10 00:00:00</td>\n",
              "      <td>...</td>\n",
              "      <td>NaT</td>\n",
              "      <td>parda</td>\n",
              "      <td>cabeleireiro(a)</td>\n",
              "      <td>homicídio doloso</td>\n",
              "      <td>feminicídio-contra a mulher por razões da cond...</td>\n",
              "      <td>NaN</td>\n",
              "      <td>NaN</td>\n",
              "      <td>NaN</td>\n",
              "      <td>12</td>\n",
              "      <td>10</td>\n",
              "    </tr>\n",
              "    <tr>\n",
              "      <th>180</th>\n",
              "      <td>decap</td>\n",
              "      <td>8ª sec</td>\n",
              "      <td>são paulo</td>\n",
              "      <td>055 dp - parque são rafael</td>\n",
              "      <td>NaN</td>\n",
              "      <td>1</td>\n",
              "      <td>20249</td>\n",
              "      <td>12</td>\n",
              "      <td>2022</td>\n",
              "      <td>2022-12-11 00:00:00</td>\n",
              "      <td>...</td>\n",
              "      <td>NaT</td>\n",
              "      <td>preta</td>\n",
              "      <td>not specified</td>\n",
              "      <td>homicídio doloso</td>\n",
              "      <td>feminicídio-contra a mulher por razões da cond...</td>\n",
              "      <td>NaN</td>\n",
              "      <td>NaN</td>\n",
              "      <td>NaN</td>\n",
              "      <td>12</td>\n",
              "      <td>11</td>\n",
              "    </tr>\n",
              "  </tbody>\n",
              "</table>\n",
              "<p>232 rows × 36 columns</p>\n",
              "</div>\n",
              "      <button class=\"colab-df-convert\" onclick=\"convertToInteractive('df-0ca5b8c6-c189-40b1-83ad-d8daa8cbd2d0')\"\n",
              "              title=\"Convert this dataframe to an interactive table.\"\n",
              "              style=\"display:none;\">\n",
              "        \n",
              "  <svg xmlns=\"http://www.w3.org/2000/svg\" height=\"24px\"viewBox=\"0 0 24 24\"\n",
              "       width=\"24px\">\n",
              "    <path d=\"M0 0h24v24H0V0z\" fill=\"none\"/>\n",
              "    <path d=\"M18.56 5.44l.94 2.06.94-2.06 2.06-.94-2.06-.94-.94-2.06-.94 2.06-2.06.94zm-11 1L8.5 8.5l.94-2.06 2.06-.94-2.06-.94L8.5 2.5l-.94 2.06-2.06.94zm10 10l.94 2.06.94-2.06 2.06-.94-2.06-.94-.94-2.06-.94 2.06-2.06.94z\"/><path d=\"M17.41 7.96l-1.37-1.37c-.4-.4-.92-.59-1.43-.59-.52 0-1.04.2-1.43.59L10.3 9.45l-7.72 7.72c-.78.78-.78 2.05 0 2.83L4 21.41c.39.39.9.59 1.41.59.51 0 1.02-.2 1.41-.59l7.78-7.78 2.81-2.81c.8-.78.8-2.07 0-2.86zM5.41 20L4 18.59l7.72-7.72 1.47 1.35L5.41 20z\"/>\n",
              "  </svg>\n",
              "      </button>\n",
              "      \n",
              "  <style>\n",
              "    .colab-df-container {\n",
              "      display:flex;\n",
              "      flex-wrap:wrap;\n",
              "      gap: 12px;\n",
              "    }\n",
              "\n",
              "    .colab-df-convert {\n",
              "      background-color: #E8F0FE;\n",
              "      border: none;\n",
              "      border-radius: 50%;\n",
              "      cursor: pointer;\n",
              "      display: none;\n",
              "      fill: #1967D2;\n",
              "      height: 32px;\n",
              "      padding: 0 0 0 0;\n",
              "      width: 32px;\n",
              "    }\n",
              "\n",
              "    .colab-df-convert:hover {\n",
              "      background-color: #E2EBFA;\n",
              "      box-shadow: 0px 1px 2px rgba(60, 64, 67, 0.3), 0px 1px 3px 1px rgba(60, 64, 67, 0.15);\n",
              "      fill: #174EA6;\n",
              "    }\n",
              "\n",
              "    [theme=dark] .colab-df-convert {\n",
              "      background-color: #3B4455;\n",
              "      fill: #D2E3FC;\n",
              "    }\n",
              "\n",
              "    [theme=dark] .colab-df-convert:hover {\n",
              "      background-color: #434B5C;\n",
              "      box-shadow: 0px 1px 3px 1px rgba(0, 0, 0, 0.15);\n",
              "      filter: drop-shadow(0px 1px 2px rgba(0, 0, 0, 0.3));\n",
              "      fill: #FFFFFF;\n",
              "    }\n",
              "  </style>\n",
              "\n",
              "      <script>\n",
              "        const buttonEl =\n",
              "          document.querySelector('#df-0ca5b8c6-c189-40b1-83ad-d8daa8cbd2d0 button.colab-df-convert');\n",
              "        buttonEl.style.display =\n",
              "          google.colab.kernel.accessAllowed ? 'block' : 'none';\n",
              "\n",
              "        async function convertToInteractive(key) {\n",
              "          const element = document.querySelector('#df-0ca5b8c6-c189-40b1-83ad-d8daa8cbd2d0');\n",
              "          const dataTable =\n",
              "            await google.colab.kernel.invokeFunction('convertToInteractive',\n",
              "                                                     [key], {});\n",
              "          if (!dataTable) return;\n",
              "\n",
              "          const docLinkHtml = 'Like what you see? Visit the ' +\n",
              "            '<a target=\"_blank\" href=https://colab.research.google.com/notebooks/data_table.ipynb>data table notebook</a>'\n",
              "            + ' to learn more about interactive tables.';\n",
              "          element.innerHTML = '';\n",
              "          dataTable['output_type'] = 'display_data';\n",
              "          await google.colab.output.renderOutput(dataTable, element);\n",
              "          const docLink = document.createElement('div');\n",
              "          docLink.innerHTML = docLinkHtml;\n",
              "          element.appendChild(docLink);\n",
              "        }\n",
              "      </script>\n",
              "    </div>\n",
              "  </div>\n",
              "  "
            ]
          },
          "metadata": {},
          "execution_count": 6
        }
      ]
    },
    {
      "cell_type": "code",
      "source": [
        "contagem_profissao = df['PROFISSAO'].value_counts()\n",
        "contagem_profissao.plot(kind='bar')"
      ],
      "metadata": {
        "colab": {
          "base_uri": "https://localhost:8080/",
          "height": 425
        },
        "id": "m0aDPOy_hejW",
        "outputId": "069b97d5-7178-4da2-9356-d7657c9d5a38"
      },
      "execution_count": null,
      "outputs": [
        {
          "output_type": "execute_result",
          "data": {
            "text/plain": [
              "<Axes: >"
            ]
          },
          "metadata": {},
          "execution_count": 7
        },
        {
          "output_type": "display_data",
          "data": {
            "text/plain": [
              "<Figure size 432x288 with 1 Axes>"
            ],
            "image/png": "[encoded data removed]"
          },
          "metadata": {}
        }
      ]
    },
    {
      "cell_type": "code",
      "source": [
        "contagem_cor = df['COR_PELE'].value_counts()\n",
        "contagem_cor.plot(kind='bar')\n",
        "plt.title('COR DE PELE \\n')\n",
        "plt.xlabel('Cor')\n",
        "plt.ylabel('Idade')"
      ],
      "metadata": {
        "colab": {
          "base_uri": "https://localhost:8080/",
          "height": 367
        },
        "id": "qo65Ny8Gjwr4",
        "outputId": "6ba71513-bbac-4f83-ad7a-22ee10d8b4cf"
      },
      "execution_count": null,
      "outputs": [
        {
          "output_type": "execute_result",
          "data": {
            "text/plain": [
              "Text(0, 0.5, 'Idade')"
            ]
          },
          "metadata": {},
          "execution_count": 8
        },
        {
          "output_type": "display_data",
          "data": {
            "text/plain": [
              "<Figure size 432x288 with 1 Axes>"
            ],
            "image/png": "[encoded data removed]"
          },
          "metadata": {}
        }
      ]
    }
  ]
}